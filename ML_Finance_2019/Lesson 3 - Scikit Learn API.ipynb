{
  "cells": [
    {
      "metadata": {
        "heading_collapsed": true
      },
      "cell_type": "markdown",
      "source": "# Scikit-Learn API"
    },
    {
      "metadata": {
        "heading_collapsed": true,
        "hidden": true
      },
      "cell_type": "markdown",
      "source": "## Introduction"
    },
    {
      "metadata": {
        "hidden": true
      },
      "cell_type": "markdown",
      "source": "[API design for machine learning software: experiences from the scikit-learn project](https://arxiv.org/abs/1309.0238)"
    },
    {
      "metadata": {
        "hidden": true
      },
      "cell_type": "markdown",
      "source": "Extract from the paper\n\n## General principles\n\n* **Consistency**. All objects (basic or composite) share a consistent interface composed of a limited set of methods. This interface is documented in a consistent manner for all objects. \n\n* **Inspection**. Constructor parameters and parameter values determined by learning algorithms are stored and exposed as public attributes. \n\n* **Non-proliferation of classes**. Learning algorithms are the only objects to be represented using custom classes. Datasets are represented as NumPy arrays or SciPy sparse matrices. Hyper-parameter names and values are represented as standard Python strings or numbers whenever possible. This keeps scikitlearn easy to use and easy to combine with other libraries. \n\n* **Composition**. Many machine learning tasks are expressible as sequences or combinations of transformations to data. Some learning algorithms are also naturally viewed as meta-algorithms parametrized on other algorithms. Whenever feasible, such algorithms are implemented and composed from existing building blocks. \n\n* **Sensible defaults**. Whenever an operation requires a user-deﬁned parameter, an appropriate default value is deﬁned by the library. The default value should cause the operation to be performed in a sensible way (giving a baseline solution for the task at hand).\n\n"
    },
    {
      "metadata": {
        "heading_collapsed": true,
        "hidden": true
      },
      "cell_type": "markdown",
      "source": "## Basic Steps of Using Scikit-Learn API"
    },
    {
      "metadata": {
        "hidden": true
      },
      "cell_type": "markdown",
      "source": "1. Choose a class of model\n2. Choose model hyperparameters\n3. Arrage data into features matrix and target array\n4. Fit model to data\n5. Apply trained model to new data\n\n"
    },
    {
      "metadata": {
        "heading_collapsed": true,
        "hidden": true
      },
      "cell_type": "markdown",
      "source": "## Let's look at the simplest of example: Linear Regression"
    },
    {
      "metadata": {
        "hidden": true
      },
      "cell_type": "markdown",
      "source": "Python comes with random number generated installed. The random number generator generates uniformly distributed random numbers between 0 to 1.\n\nThe following example is to illustrate Python Numpy library's random number generation capability. It is not related to later example."
    },
    {
      "metadata": {
        "trusted": true
      },
      "cell_type": "code",
      "source": "import pandas as pd    # Import Pandas\nimport numpy as np     # Import Numpy, \nimport seaborn as sns  # Import Seaborn, visualisation library\nimport matplotlib.pyplot as plt\nsns.set(color_codes=True)\n%matplotlib inline",
      "execution_count": 1,
      "outputs": []
    },
    {
      "metadata": {
        "hidden": true,
        "trusted": true
      },
      "cell_type": "code",
      "source": "generate_random = np.random.RandomState(0)\nres = generate_random.rand(10000)    # Let's generate 10,000 random numbers\nprint(res.mean())    # Calculate the mean \nprint(res.std())     # Calculate the standard deviation\nprint(res.max())\nprint(res.min())\nplt.hist(res);       # Plot the histogram to visualise",
      "execution_count": 2,
      "outputs": [
        {
          "output_type": "stream",
          "text": "0.49645889162008944\n0.2895911034398418\n0.9999779517807228\n7.2449638492178e-05\n",
          "name": "stdout"
        },
        {
          "output_type": "display_data",
          "data": {
            "image/png": "[encoded data removed]",
            "text/plain": "<matplotlib.figure.Figure at 0x7f6bc90676d8>"
          },
          "metadata": {}
        }
      ]
    },
    {
      "metadata": {},
      "cell_type": "markdown",
      "source": "Note the uniform distribution.\n\n***"
    },
    {
      "metadata": {},
      "cell_type": "markdown",
      "source": "# Modelling - Linear Regression with Scikit Learn"
    },
    {
      "metadata": {
        "hidden": true
      },
      "cell_type": "markdown",
      "source": "Let's generate 100 random numbers and multiple them by 10. This will be our `x`."
    },
    {
      "metadata": {
        "hidden": true,
        "trusted": true
      },
      "cell_type": "code",
      "source": "generate_random = np.random.RandomState(0)\nx = 10 * generate_random.rand(100)",
      "execution_count": 3,
      "outputs": []
    },
    {
      "metadata": {
        "hidden": true
      },
      "cell_type": "markdown",
      "source": "The relationship between x and y is hence,\n\n$y = 3x + \\epsilon$"
    },
    {
      "metadata": {
        "hidden": true,
        "trusted": true
      },
      "cell_type": "code",
      "source": "y = 3 * x + np.random.randn(100)\nplt.figure(figsize = (10, 8))\nsns.set(color_codes=True)\nplt.scatter(x, y);",
      "execution_count": 4,
      "outputs": [
        {
          "output_type": "display_data",
          "data": {
            "image/png": "[encoded data removed]",
            "text/plain": "<matplotlib.figure.Figure at 0x7f6bc8daa780>"
          },
          "metadata": {}
        }
      ]
    },
    {
      "metadata": {
        "hidden": true
      },
      "cell_type": "markdown",
      "source": "### Step 1. Choose a class of model"
    },
    {
      "metadata": {
        "hidden": true,
        "trusted": true
      },
      "cell_type": "code",
      "source": "from sklearn.linear_model import LinearRegression",
      "execution_count": 5,
      "outputs": []
    },
    {
      "metadata": {
        "hidden": true
      },
      "cell_type": "markdown",
      "source": "### Step 2. Choose model hyperparameters"
    },
    {
      "metadata": {
        "hidden": true,
        "trusted": true
      },
      "cell_type": "code",
      "source": "model = LinearRegression(fit_intercept=True)\nmodel",
      "execution_count": 6,
      "outputs": [
        {
          "output_type": "execute_result",
          "execution_count": 6,
          "data": {
            "text/plain": "LinearRegression(copy_X=True, fit_intercept=True, n_jobs=1, normalize=False)"
          },
          "metadata": {}
        }
      ]
    },
    {
      "metadata": {
        "hidden": true
      },
      "cell_type": "markdown",
      "source": "### Step 3. Arrange data into features matrix and target array"
    },
    {
      "metadata": {
        "trusted": true
      },
      "cell_type": "code",
      "source": "x.shape",
      "execution_count": 7,
      "outputs": [
        {
          "output_type": "execute_result",
          "execution_count": 7,
          "data": {
            "text/plain": "(100,)"
          },
          "metadata": {}
        }
      ]
    },
    {
      "metadata": {
        "trusted": true
      },
      "cell_type": "code",
      "source": "x[:10]",
      "execution_count": 8,
      "outputs": [
        {
          "output_type": "execute_result",
          "execution_count": 8,
          "data": {
            "text/plain": "array([5.48813504, 7.15189366, 6.02763376, 5.44883183, 4.23654799,\n       6.45894113, 4.37587211, 8.91773001, 9.63662761, 3.83441519])"
          },
          "metadata": {}
        }
      ]
    },
    {
      "metadata": {},
      "cell_type": "markdown",
      "source": "Note the shape of the variable. It is not of the form scikit learn can accept.\n\nWe need to reshape this to the format scikit learn api can accept."
    },
    {
      "metadata": {
        "hidden": true,
        "trusted": true
      },
      "cell_type": "code",
      "source": "X = x.reshape(-1, 1)\nX.shape",
      "execution_count": 9,
      "outputs": [
        {
          "output_type": "execute_result",
          "execution_count": 9,
          "data": {
            "text/plain": "(100, 1)"
          },
          "metadata": {}
        }
      ]
    },
    {
      "metadata": {
        "trusted": true
      },
      "cell_type": "code",
      "source": "X[:10]",
      "execution_count": 10,
      "outputs": [
        {
          "output_type": "execute_result",
          "execution_count": 10,
          "data": {
            "text/plain": "array([[5.48813504],\n       [7.15189366],\n       [6.02763376],\n       [5.44883183],\n       [4.23654799],\n       [6.45894113],\n       [4.37587211],\n       [8.91773001],\n       [9.63662761],\n       [3.83441519]])"
          },
          "metadata": {}
        }
      ]
    },
    {
      "metadata": {},
      "cell_type": "markdown",
      "source": "We have only reshaped the data. The underlying data remained unchanged."
    },
    {
      "metadata": {
        "hidden": true
      },
      "cell_type": "markdown",
      "source": "### Step 4. Fit model to data"
    },
    {
      "metadata": {
        "hidden": true,
        "trusted": true
      },
      "cell_type": "code",
      "source": "model.fit(X, y)",
      "execution_count": 11,
      "outputs": [
        {
          "output_type": "execute_result",
          "execution_count": 11,
          "data": {
            "text/plain": "LinearRegression(copy_X=True, fit_intercept=True, n_jobs=1, normalize=False)"
          },
          "metadata": {}
        }
      ]
    },
    {
      "metadata": {
        "hidden": true
      },
      "cell_type": "markdown",
      "source": "### Step 5. Apply trained model to new data"
    },
    {
      "metadata": {
        "hidden": true
      },
      "cell_type": "markdown",
      "source": "Let's generate a evenly distributed number between -1 and 11 using numpy **linspace** method"
    },
    {
      "metadata": {
        "hidden": true,
        "trusted": true
      },
      "cell_type": "code",
      "source": "x_fit = np.linspace(-1, 11)",
      "execution_count": 12,
      "outputs": []
    },
    {
      "metadata": {
        "hidden": true,
        "trusted": true
      },
      "cell_type": "code",
      "source": "x_fit",
      "execution_count": 13,
      "outputs": [
        {
          "output_type": "execute_result",
          "execution_count": 13,
          "data": {
            "text/plain": "array([-1.        , -0.75510204, -0.51020408, -0.26530612, -0.02040816,\n        0.2244898 ,  0.46938776,  0.71428571,  0.95918367,  1.20408163,\n        1.44897959,  1.69387755,  1.93877551,  2.18367347,  2.42857143,\n        2.67346939,  2.91836735,  3.16326531,  3.40816327,  3.65306122,\n        3.89795918,  4.14285714,  4.3877551 ,  4.63265306,  4.87755102,\n        5.12244898,  5.36734694,  5.6122449 ,  5.85714286,  6.10204082,\n        6.34693878,  6.59183673,  6.83673469,  7.08163265,  7.32653061,\n        7.57142857,  7.81632653,  8.06122449,  8.30612245,  8.55102041,\n        8.79591837,  9.04081633,  9.28571429,  9.53061224,  9.7755102 ,\n       10.02040816, 10.26530612, 10.51020408, 10.75510204, 11.        ])"
          },
          "metadata": {}
        }
      ]
    },
    {
      "metadata": {
        "hidden": true,
        "trusted": true
      },
      "cell_type": "code",
      "source": "X_fit = x_fit.reshape(-1,1)    # convert it to vector, the format \n                               # that scikit learn expect",
      "execution_count": 14,
      "outputs": []
    },
    {
      "metadata": {
        "hidden": true,
        "trusted": true
      },
      "cell_type": "code",
      "source": "y_fit = model.predict(X_fit)",
      "execution_count": 15,
      "outputs": []
    },
    {
      "metadata": {
        "heading_collapsed": true,
        "hidden": true
      },
      "cell_type": "markdown",
      "source": "### Visualise"
    },
    {
      "metadata": {
        "hidden": true,
        "trusted": true
      },
      "cell_type": "code",
      "source": "plt.figure(figsize = (10, 8))\nplt.scatter(x, y)\nplt.plot(x_fit, y_fit);",
      "execution_count": 16,
      "outputs": [
        {
          "output_type": "display_data",
          "data": {
            "image/png": "[encoded data removed]",
            "text/plain": "<matplotlib.figure.Figure at 0x7f6bc8554c50>"
          },
          "metadata": {}
        }
      ]
    },
    {
      "metadata": {
        "hidden": true
      },
      "cell_type": "markdown",
      "source": "Notice that the model produced a line of best fit. The straight line is generated from the scikit-learn linear regression model."
    }
  ],
  "metadata": {
    "kernelspec": {
      "name": "python3",
      "display_name": "Python 3",
      "language": "python"
    },
    "language_info": {
      "mimetype": "text/x-python",
      "nbconvert_exporter": "python",
      "name": "python",
      "file_extension": ".py",
      "version": "3.5.4",
      "pygments_lexer": "ipython3",
      "codemirror_mode": {
        "version": 3,
        "name": "ipython"
      }
    }
  },
  "nbformat": 4,
  "nbformat_minor": 2
}