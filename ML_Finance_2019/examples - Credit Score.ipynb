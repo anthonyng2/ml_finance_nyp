{
  "cells": [
    {
      "metadata": {},
      "cell_type": "markdown",
      "source": "# Credit Scoring\n\n\n[Inspired by rorodata](https://github.com/rorodata/credit-scoring-demo)"
    },
    {
      "metadata": {
        "trusted": true
      },
      "cell_type": "code",
      "source": "import pandas as pd, numpy as np\nimport datetime\n\nfrom sklearn.model_selection import train_test_split\nfrom sklearn.preprocessing import OneHotEncoder, LabelBinarizer\nfrom sklearn.ensemble import GradientBoostingClassifier, RandomForestClassifier\nfrom sklearn.linear_model import LogisticRegression\nfrom sklearn.tree import DecisionTreeClassifier\nfrom sklearn.metrics import roc_curve, auc, confusion_matrix\nfrom sklearn.model_selection import GridSearchCV\n\nimport sklearn\n#from sklearn_pandas import DataFrameMapper\n\nimport matplotlib.pyplot as plt\nfrom IPython.display import HTML",
      "execution_count": 1,
      "outputs": [
        {
          "output_type": "stream",
          "text": "/home/nbuser/anaconda3_420/lib/python3.5/site-packages/sklearn/ensemble/weight_boosting.py:29: DeprecationWarning: numpy.core.umath_tests is an internal NumPy module and should not be imported. It will be removed in a future NumPy release.\n  from numpy.core.umath_tests import inner1d\n",
          "name": "stderr"
        }
      ]
    },
    {
      "metadata": {
        "trusted": true
      },
      "cell_type": "code",
      "source": "df = pd.read_excel(\"mini-lending-club-data.xlsx\")",
      "execution_count": 2,
      "outputs": []
    },
    {
      "metadata": {
        "trusted": true
      },
      "cell_type": "code",
      "source": "df.head()",
      "execution_count": 3,
      "outputs": [
        {
          "output_type": "execute_result",
          "execution_count": 3,
          "data": {
            "text/plain": "        id  member_id  loan_amnt  funded_amnt  funded_amnt_inv        term  \\\n0  1077501    1296599       5000         5000             4975   36 months   \n1  1077175    1313524       2400         2400             2400   36 months   \n2  1076863    1277178      10000        10000            10000   36 months   \n3  1075269    1311441       5000         5000             5000   36 months   \n4  1072053    1288686       3000         3000             3000   36 months   \n\n   int_rate  installment grade sub_grade          ...          sub_grade_num  \\\n0     10.65       162.87     B        B2          ...                    0.4   \n1     15.96        84.33     C        C5          ...                    1.0   \n2     13.49       339.31     C        C1          ...                    0.2   \n3      7.90       156.46     A        A4          ...                    0.8   \n4     18.64       109.43     E        E1          ...                    0.2   \n\n  delinq_2yrs_zero pub_rec_zero  collections_12_mths_zero short_emp  \\\n0              1.0          1.0                       1.0         0   \n1              1.0          1.0                       1.0         0   \n2              1.0          1.0                       1.0         0   \n3              1.0          1.0                       1.0         0   \n4              1.0          1.0                       1.0         0   \n\n  payment_inc_ratio          final_d last_delinq_none last_record_none  \\\n0           8.14350  20141201T000000                1                1   \n1           8.25955  20141201T000000                1                1   \n2           8.27585  20141201T000000                0                1   \n3           5.21533  20141201T000000                1                1   \n4           2.73575  20141201T000000                1                1   \n\n  last_major_derog_none  \n0                     1  \n1                     1  \n2                     1  \n3                     1  \n4                     1  \n\n[5 rows x 68 columns]",
            "text/html": "<div>\n<table border=\"1\" class=\"dataframe\">\n  <thead>\n    <tr style=\"text-align: right;\">\n      <th></th>\n      <th>id</th>\n      <th>member_id</th>\n      <th>loan_amnt</th>\n      <th>funded_amnt</th>\n      <th>funded_amnt_inv</th>\n      <th>term</th>\n      <th>int_rate</th>\n      <th>installment</th>\n      <th>grade</th>\n      <th>sub_grade</th>\n      <th>...</th>\n      <th>sub_grade_num</th>\n      <th>delinq_2yrs_zero</th>\n      <th>pub_rec_zero</th>\n      <th>collections_12_mths_zero</th>\n      <th>short_emp</th>\n      <th>payment_inc_ratio</th>\n      <th>final_d</th>\n      <th>last_delinq_none</th>\n      <th>last_record_none</th>\n      <th>last_major_derog_none</th>\n    </tr>\n  </thead>\n  <tbody>\n    <tr>\n      <th>0</th>\n      <td>1077501</td>\n      <td>1296599</td>\n      <td>5000</td>\n      <td>5000</td>\n      <td>4975</td>\n      <td>36 months</td>\n      <td>10.65</td>\n      <td>162.87</td>\n      <td>B</td>\n      <td>B2</td>\n      <td>...</td>\n      <td>0.4</td>\n      <td>1.0</td>\n      <td>1.0</td>\n      <td>1.0</td>\n      <td>0</td>\n      <td>8.14350</td>\n      <td>20141201T000000</td>\n      <td>1</td>\n      <td>1</td>\n      <td>1</td>\n    </tr>\n    <tr>\n      <th>1</th>\n      <td>1077175</td>\n      <td>1313524</td>\n      <td>2400</td>\n      <td>2400</td>\n      <td>2400</td>\n      <td>36 months</td>\n      <td>15.96</td>\n      <td>84.33</td>\n      <td>C</td>\n      <td>C5</td>\n      <td>...</td>\n      <td>1.0</td>\n      <td>1.0</td>\n      <td>1.0</td>\n      <td>1.0</td>\n      <td>0</td>\n      <td>8.25955</td>\n      <td>20141201T000000</td>\n      <td>1</td>\n      <td>1</td>\n      <td>1</td>\n    </tr>\n    <tr>\n      <th>2</th>\n      <td>1076863</td>\n      <td>1277178</td>\n      <td>10000</td>\n      <td>10000</td>\n      <td>10000</td>\n      <td>36 months</td>\n      <td>13.49</td>\n      <td>339.31</td>\n      <td>C</td>\n      <td>C1</td>\n      <td>...</td>\n      <td>0.2</td>\n      <td>1.0</td>\n      <td>1.0</td>\n      <td>1.0</td>\n      <td>0</td>\n      <td>8.27585</td>\n      <td>20141201T000000</td>\n      <td>0</td>\n      <td>1</td>\n      <td>1</td>\n    </tr>\n    <tr>\n      <th>3</th>\n      <td>1075269</td>\n      <td>1311441</td>\n      <td>5000</td>\n      <td>5000</td>\n      <td>5000</td>\n      <td>36 months</td>\n      <td>7.90</td>\n      <td>156.46</td>\n      <td>A</td>\n      <td>A4</td>\n      <td>...</td>\n      <td>0.8</td>\n      <td>1.0</td>\n      <td>1.0</td>\n      <td>1.0</td>\n      <td>0</td>\n      <td>5.21533</td>\n      <td>20141201T000000</td>\n      <td>1</td>\n      <td>1</td>\n      <td>1</td>\n    </tr>\n    <tr>\n      <th>4</th>\n      <td>1072053</td>\n      <td>1288686</td>\n      <td>3000</td>\n      <td>3000</td>\n      <td>3000</td>\n      <td>36 months</td>\n      <td>18.64</td>\n      <td>109.43</td>\n      <td>E</td>\n      <td>E1</td>\n      <td>...</td>\n      <td>0.2</td>\n      <td>1.0</td>\n      <td>1.0</td>\n      <td>1.0</td>\n      <td>0</td>\n      <td>2.73575</td>\n      <td>20141201T000000</td>\n      <td>1</td>\n      <td>1</td>\n      <td>1</td>\n    </tr>\n  </tbody>\n</table>\n<p>5 rows × 68 columns</p>\n</div>"
          },
          "metadata": {}
        }
      ]
    },
    {
      "metadata": {
        "trusted": true
      },
      "cell_type": "code",
      "source": "pd.set_option('display.max_colwidth', -1)\ndisplay(HTML(df.head().to_html()))\npd.reset_option('display.max_colwidth')",
      "execution_count": 4,
      "outputs": [
        {
          "output_type": "display_data",
          "data": {
            "text/plain": "<IPython.core.display.HTML object>",
            "text/html": "<table border=\"1\" class=\"dataframe\">\n  <thead>\n    <tr style=\"text-align: right;\">\n      <th></th>\n      <th>id</th>\n      <th>member_id</th>\n      <th>loan_amnt</th>\n      <th>funded_amnt</th>\n      <th>funded_amnt_inv</th>\n      <th>term</th>\n      <th>int_rate</th>\n      <th>installment</th>\n      <th>grade</th>\n      <th>sub_grade</th>\n      <th>emp_title</th>\n      <th>emp_length</th>\n      <th>home_ownership</th>\n      <th>annual_inc</th>\n      <th>is_inc_v</th>\n      <th>issue_d</th>\n      <th>loan_status</th>\n      <th>pymnt_plan</th>\n      <th>url</th>\n      <th>desc</th>\n      <th>purpose</th>\n      <th>title</th>\n      <th>zip_code</th>\n      <th>addr_state</th>\n      <th>dti</th>\n      <th>delinq_2yrs</th>\n      <th>earliest_cr_line</th>\n      <th>inq_last_6mths</th>\n      <th>mths_since_last_delinq</th>\n      <th>mths_since_last_record</th>\n      <th>open_acc</th>\n      <th>pub_rec</th>\n      <th>revol_bal</th>\n      <th>revol_util</th>\n      <th>total_acc</th>\n      <th>initial_list_status</th>\n      <th>out_prncp</th>\n      <th>out_prncp_inv</th>\n      <th>total_pymnt</th>\n      <th>total_pymnt_inv</th>\n      <th>total_rec_prncp</th>\n      <th>total_rec_int</th>\n      <th>total_rec_late_fee</th>\n      <th>recoveries</th>\n      <th>collection_recovery_fee</th>\n      <th>last_pymnt_d</th>\n      <th>last_pymnt_amnt</th>\n      <th>next_pymnt_d</th>\n      <th>last_credit_pull_d</th>\n      <th>collections_12_mths_ex_med</th>\n      <th>mths_since_last_major_derog</th>\n      <th>policy_code</th>\n      <th>not_compliant</th>\n      <th>status</th>\n      <th>inactive_loans</th>\n      <th>bad_loans</th>\n      <th>emp_length_num</th>\n      <th>grade_num</th>\n      <th>sub_grade_num</th>\n      <th>delinq_2yrs_zero</th>\n      <th>pub_rec_zero</th>\n      <th>collections_12_mths_zero</th>\n      <th>short_emp</th>\n      <th>payment_inc_ratio</th>\n      <th>final_d</th>\n      <th>last_delinq_none</th>\n      <th>last_record_none</th>\n      <th>last_major_derog_none</th>\n    </tr>\n  </thead>\n  <tbody>\n    <tr>\n      <th>0</th>\n      <td>1077501</td>\n      <td>1296599</td>\n      <td>5000</td>\n      <td>5000</td>\n      <td>4975</td>\n      <td>36 months</td>\n      <td>10.65</td>\n      <td>162.87</td>\n      <td>B</td>\n      <td>B2</td>\n      <td>NaN</td>\n      <td>10+ years</td>\n      <td>RENT</td>\n      <td>24000</td>\n      <td>Verified</td>\n      <td>20111201T000000</td>\n      <td>Fully Paid</td>\n      <td>n</td>\n      <td>https://www.lendingclub.com/browse/loanDetail.action?loan_id=1077501</td>\n      <td>Borrower added on 12/22/11 &gt; I need to upgrade my business technologies.&lt;br&gt;</td>\n      <td>credit_card</td>\n      <td>Computer</td>\n      <td>860xx</td>\n      <td>AZ</td>\n      <td>27.65</td>\n      <td>0.0</td>\n      <td>19850101T000000</td>\n      <td>1.0</td>\n      <td>NaN</td>\n      <td>NaN</td>\n      <td>3.0</td>\n      <td>0.0</td>\n      <td>13648</td>\n      <td>83.7</td>\n      <td>9.0</td>\n      <td>f</td>\n      <td>0.0</td>\n      <td>0.0</td>\n      <td>5861.07</td>\n      <td>5831.78</td>\n      <td>5000.0</td>\n      <td>861.07</td>\n      <td>0.00</td>\n      <td>0.0</td>\n      <td>0.0</td>\n      <td>20150101T000000</td>\n      <td>171.62</td>\n      <td>NaN</td>\n      <td>20150101T000000</td>\n      <td>0.0</td>\n      <td>NaN</td>\n      <td>1</td>\n      <td>0</td>\n      <td>Fully Paid</td>\n      <td>1</td>\n      <td>0</td>\n      <td>11</td>\n      <td>5</td>\n      <td>0.4</td>\n      <td>1.0</td>\n      <td>1.0</td>\n      <td>1.0</td>\n      <td>0</td>\n      <td>8.14350</td>\n      <td>20141201T000000</td>\n      <td>1</td>\n      <td>1</td>\n      <td>1</td>\n    </tr>\n    <tr>\n      <th>1</th>\n      <td>1077175</td>\n      <td>1313524</td>\n      <td>2400</td>\n      <td>2400</td>\n      <td>2400</td>\n      <td>36 months</td>\n      <td>15.96</td>\n      <td>84.33</td>\n      <td>C</td>\n      <td>C5</td>\n      <td>NaN</td>\n      <td>10+ years</td>\n      <td>RENT</td>\n      <td>12252</td>\n      <td>Not Verified</td>\n      <td>20111201T000000</td>\n      <td>Fully Paid</td>\n      <td>n</td>\n      <td>https://www.lendingclub.com/browse/loanDetail.action?loan_id=1077175</td>\n      <td>NaN</td>\n      <td>small_business</td>\n      <td>real estate business</td>\n      <td>606xx</td>\n      <td>IL</td>\n      <td>8.72</td>\n      <td>0.0</td>\n      <td>20011101T000000</td>\n      <td>2.0</td>\n      <td>NaN</td>\n      <td>NaN</td>\n      <td>2.0</td>\n      <td>0.0</td>\n      <td>2956</td>\n      <td>98.5</td>\n      <td>10.0</td>\n      <td>f</td>\n      <td>0.0</td>\n      <td>0.0</td>\n      <td>3003.65</td>\n      <td>3003.65</td>\n      <td>2400.0</td>\n      <td>603.65</td>\n      <td>0.00</td>\n      <td>0.0</td>\n      <td>0.0</td>\n      <td>20140601T000000</td>\n      <td>649.91</td>\n      <td>NaN</td>\n      <td>20150201T000000</td>\n      <td>0.0</td>\n      <td>NaN</td>\n      <td>1</td>\n      <td>0</td>\n      <td>Fully Paid</td>\n      <td>1</td>\n      <td>0</td>\n      <td>11</td>\n      <td>4</td>\n      <td>1.0</td>\n      <td>1.0</td>\n      <td>1.0</td>\n      <td>1.0</td>\n      <td>0</td>\n      <td>8.25955</td>\n      <td>20141201T000000</td>\n      <td>1</td>\n      <td>1</td>\n      <td>1</td>\n    </tr>\n    <tr>\n      <th>2</th>\n      <td>1076863</td>\n      <td>1277178</td>\n      <td>10000</td>\n      <td>10000</td>\n      <td>10000</td>\n      <td>36 months</td>\n      <td>13.49</td>\n      <td>339.31</td>\n      <td>C</td>\n      <td>C1</td>\n      <td>AIR RESOURCES BOARD</td>\n      <td>10+ years</td>\n      <td>RENT</td>\n      <td>49200</td>\n      <td>Source Verified</td>\n      <td>20111201T000000</td>\n      <td>Fully Paid</td>\n      <td>n</td>\n      <td>https://www.lendingclub.com/browse/loanDetail.action?loan_id=1076863</td>\n      <td>Borrower added on 12/21/11 &gt; to pay for property tax (borrow from friend, need to pay back) &amp; central A/C need to be replace. I'm very sorry to let my loan expired last time.&lt;br&gt;</td>\n      <td>other</td>\n      <td>personel</td>\n      <td>917xx</td>\n      <td>CA</td>\n      <td>20.00</td>\n      <td>0.0</td>\n      <td>19960201T000000</td>\n      <td>1.0</td>\n      <td>35.0</td>\n      <td>NaN</td>\n      <td>10.0</td>\n      <td>0.0</td>\n      <td>5598</td>\n      <td>21.0</td>\n      <td>37.0</td>\n      <td>f</td>\n      <td>0.0</td>\n      <td>0.0</td>\n      <td>12226.30</td>\n      <td>12226.30</td>\n      <td>10000.0</td>\n      <td>2209.33</td>\n      <td>16.97</td>\n      <td>0.0</td>\n      <td>0.0</td>\n      <td>20150101T000000</td>\n      <td>357.48</td>\n      <td>NaN</td>\n      <td>20150101T000000</td>\n      <td>0.0</td>\n      <td>NaN</td>\n      <td>1</td>\n      <td>0</td>\n      <td>Fully Paid</td>\n      <td>1</td>\n      <td>0</td>\n      <td>11</td>\n      <td>4</td>\n      <td>0.2</td>\n      <td>1.0</td>\n      <td>1.0</td>\n      <td>1.0</td>\n      <td>0</td>\n      <td>8.27585</td>\n      <td>20141201T000000</td>\n      <td>0</td>\n      <td>1</td>\n      <td>1</td>\n    </tr>\n    <tr>\n      <th>3</th>\n      <td>1075269</td>\n      <td>1311441</td>\n      <td>5000</td>\n      <td>5000</td>\n      <td>5000</td>\n      <td>36 months</td>\n      <td>7.90</td>\n      <td>156.46</td>\n      <td>A</td>\n      <td>A4</td>\n      <td>Veolia Transportaton</td>\n      <td>3 years</td>\n      <td>RENT</td>\n      <td>36000</td>\n      <td>Source Verified</td>\n      <td>20111201T000000</td>\n      <td>Fully Paid</td>\n      <td>n</td>\n      <td>https://www.lendingclub.com/browse/loanDetail.action?loan_id=1075269</td>\n      <td>NaN</td>\n      <td>wedding</td>\n      <td>My wedding loan I promise to pay back</td>\n      <td>852xx</td>\n      <td>AZ</td>\n      <td>11.20</td>\n      <td>0.0</td>\n      <td>20041101T000000</td>\n      <td>3.0</td>\n      <td>NaN</td>\n      <td>NaN</td>\n      <td>9.0</td>\n      <td>0.0</td>\n      <td>7963</td>\n      <td>28.3</td>\n      <td>12.0</td>\n      <td>f</td>\n      <td>0.0</td>\n      <td>0.0</td>\n      <td>5631.38</td>\n      <td>5631.38</td>\n      <td>5000.0</td>\n      <td>631.38</td>\n      <td>0.00</td>\n      <td>0.0</td>\n      <td>0.0</td>\n      <td>20150101T000000</td>\n      <td>161.03</td>\n      <td>NaN</td>\n      <td>20150201T000000</td>\n      <td>0.0</td>\n      <td>NaN</td>\n      <td>1</td>\n      <td>0</td>\n      <td>Fully Paid</td>\n      <td>1</td>\n      <td>0</td>\n      <td>4</td>\n      <td>6</td>\n      <td>0.8</td>\n      <td>1.0</td>\n      <td>1.0</td>\n      <td>1.0</td>\n      <td>0</td>\n      <td>5.21533</td>\n      <td>20141201T000000</td>\n      <td>1</td>\n      <td>1</td>\n      <td>1</td>\n    </tr>\n    <tr>\n      <th>4</th>\n      <td>1072053</td>\n      <td>1288686</td>\n      <td>3000</td>\n      <td>3000</td>\n      <td>3000</td>\n      <td>36 months</td>\n      <td>18.64</td>\n      <td>109.43</td>\n      <td>E</td>\n      <td>E1</td>\n      <td>MKC Accounting</td>\n      <td>9 years</td>\n      <td>RENT</td>\n      <td>48000</td>\n      <td>Source Verified</td>\n      <td>20111201T000000</td>\n      <td>Fully Paid</td>\n      <td>n</td>\n      <td>https://www.lendingclub.com/browse/loanDetail.action?loan_id=1072053</td>\n      <td>Borrower added on 12/16/11 &gt; Downpayment for a car.&lt;br&gt;</td>\n      <td>car</td>\n      <td>Car Downpayment</td>\n      <td>900xx</td>\n      <td>CA</td>\n      <td>5.35</td>\n      <td>0.0</td>\n      <td>20070101T000000</td>\n      <td>2.0</td>\n      <td>NaN</td>\n      <td>NaN</td>\n      <td>4.0</td>\n      <td>0.0</td>\n      <td>8221</td>\n      <td>87.5</td>\n      <td>4.0</td>\n      <td>f</td>\n      <td>0.0</td>\n      <td>0.0</td>\n      <td>3938.14</td>\n      <td>3938.14</td>\n      <td>3000.0</td>\n      <td>938.14</td>\n      <td>0.00</td>\n      <td>0.0</td>\n      <td>0.0</td>\n      <td>20150101T000000</td>\n      <td>111.34</td>\n      <td>NaN</td>\n      <td>20141201T000000</td>\n      <td>0.0</td>\n      <td>NaN</td>\n      <td>1</td>\n      <td>0</td>\n      <td>Fully Paid</td>\n      <td>1</td>\n      <td>0</td>\n      <td>10</td>\n      <td>2</td>\n      <td>0.2</td>\n      <td>1.0</td>\n      <td>1.0</td>\n      <td>1.0</td>\n      <td>0</td>\n      <td>2.73575</td>\n      <td>20141201T000000</td>\n      <td>1</td>\n      <td>1</td>\n      <td>1</td>\n    </tr>\n  </tbody>\n</table>"
          },
          "metadata": {}
        }
      ]
    },
    {
      "metadata": {
        "trusted": true
      },
      "cell_type": "code",
      "source": "features = ['grade',                     # grade of the loan (categorical)\n            'sub_grade_num',             # sub-grade of the loan as a number from 0 to 1\n            'short_emp',                 # one year or less of employment\n            'emp_length_num',            # number of years of employment\n            'home_ownership',            # home_ownership status: own, mortgage or rent\n            'dti',                       # debt to income ratio\n            'purpose',                   # the purpose of the loan\n            'payment_inc_ratio',         # ratio of the monthly payment to income\n            'delinq_2yrs',               # number of delinquincies \n            'delinq_2yrs_zero',          # no delinquincies in last 2 years\n            'inq_last_6mths',            # number of creditor inquiries in last 6 months\n            'last_delinq_none',          # has borrower had a delinquincy\n            'last_major_derog_none',     # has borrower had 90 day or worse rating\n            'open_acc',                  # number of open credit accounts\n            'pub_rec',                   # number of derogatory public records\n            'pub_rec_zero',              # no derogatory public records\n            'revol_util']                # percent of available credit being used",
      "execution_count": 5,
      "outputs": []
    },
    {
      "metadata": {
        "trusted": true
      },
      "cell_type": "code",
      "source": "X = df[features]\ny = df['bad_loans']",
      "execution_count": 6,
      "outputs": []
    },
    {
      "metadata": {
        "trusted": true
      },
      "cell_type": "code",
      "source": "X_train, X_test, y_train, y_test = train_test_split(X, y, test_size=0.3, random_state=42, \n                                                    stratify=y)",
      "execution_count": 7,
      "outputs": []
    },
    {
      "metadata": {
        "trusted": true
      },
      "cell_type": "code",
      "source": "num = ['sub_grade_num', 'short_emp', 'emp_length_num', 'dti', \n       'payment_inc_ratio', 'delinq_2yrs', 'delinq_2yrs_zero',\n       'inq_last_6mths', 'last_delinq_none', 'last_major_derog_none', \n       'open_acc', 'pub_rec', 'pub_rec_zero', 'revol_util']\n\ncat = ['grade', 'home_ownership', 'purpose']",
      "execution_count": 8,
      "outputs": []
    },
    {
      "metadata": {
        "trusted": true
      },
      "cell_type": "code",
      "source": "X_train.grade.value_counts()",
      "execution_count": 9,
      "outputs": [
        {
          "output_type": "execute_result",
          "execution_count": 9,
          "data": {
            "text/plain": "B    3805\nC    2960\nA    2940\nD    2231\nE    1258\nF     618\nG     188\nName: grade, dtype: int64"
          },
          "metadata": {}
        }
      ]
    },
    {
      "metadata": {
        "trusted": true
      },
      "cell_type": "code",
      "source": "X_train.home_ownership.value_counts()",
      "execution_count": 10,
      "outputs": [
        {
          "output_type": "execute_result",
          "execution_count": 10,
          "data": {
            "text/plain": "RENT        6703\nMORTGAGE    6200\nOWN         1077\nOTHER         20\nName: home_ownership, dtype: int64"
          },
          "metadata": {}
        }
      ]
    },
    {
      "metadata": {
        "trusted": true
      },
      "cell_type": "code",
      "source": "X_train.purpose.value_counts()",
      "execution_count": 11,
      "outputs": [
        {
          "output_type": "execute_result",
          "execution_count": 11,
          "data": {
            "text/plain": "debt_consolidation    7095\ncredit_card           1938\nother                 1444\nhome_improvement       953\nsmall_business         641\nmajor_purchase         567\ncar                    389\nwedding                256\nmedical                241\nmoving                 210\nvacation               147\nhouse                  119\nName: purpose, dtype: int64"
          },
          "metadata": {}
        }
      ]
    },
    {
      "metadata": {
        "trusted": true
      },
      "cell_type": "code",
      "source": "from sklearn import preprocessing\nfrom sklearn.preprocessing import OneHotEncoder",
      "execution_count": 12,
      "outputs": []
    },
    {
      "metadata": {
        "trusted": true
      },
      "cell_type": "code",
      "source": "le_grade = preprocessing.LabelEncoder()\nle_own = preprocessing.LabelEncoder()\nle_purpose = preprocessing.LabelEncoder()\n\nenc_grade = OneHotEncoder(sparse=False)\nenc_own = OneHotEncoder(sparse=False)\nenc_purpose = OneHotEncoder(sparse=False)\n\ngrade = le_grade.fit_transform(X_train.grade)\nhome_ownership = le_own.fit_transform(X_train.home_ownership)\npurpose = le_purpose.fit_transform(X_train.purpose)\n\ngrade = enc_grade.fit_transform(grade.reshape(-1,1))\nhome = enc_own.fit_transform(home_ownership.reshape(-1,1))\npurpose = enc_purpose.fit_transform(purpose.reshape(-1,1))",
      "execution_count": 13,
      "outputs": []
    },
    {
      "metadata": {
        "trusted": true
      },
      "cell_type": "code",
      "source": "X_train = pd.concat([X_train[num],\n                     pd.DataFrame(np.hstack((grade, home, purpose)))], axis=1)",
      "execution_count": 14,
      "outputs": []
    },
    {
      "metadata": {
        "trusted": true
      },
      "cell_type": "code",
      "source": "comb = pd.concat([X_train, y_train], axis=1)",
      "execution_count": 15,
      "outputs": []
    },
    {
      "metadata": {
        "trusted": true
      },
      "cell_type": "code",
      "source": "comb = comb.dropna()",
      "execution_count": 16,
      "outputs": []
    },
    {
      "metadata": {
        "trusted": true
      },
      "cell_type": "code",
      "source": "comb.shape",
      "execution_count": 17,
      "outputs": [
        {
          "output_type": "execute_result",
          "execution_count": 17,
          "data": {
            "text/plain": "(9806, 38)"
          },
          "metadata": {}
        }
      ]
    },
    {
      "metadata": {
        "trusted": true
      },
      "cell_type": "code",
      "source": "y_train = comb['bad_loans']",
      "execution_count": 18,
      "outputs": []
    },
    {
      "metadata": {
        "trusted": true
      },
      "cell_type": "code",
      "source": "X_train = comb[X_train.columns]",
      "execution_count": 19,
      "outputs": []
    },
    {
      "metadata": {
        "trusted": true
      },
      "cell_type": "code",
      "source": "test_grade = le_grade.transform(X_test.grade)\ntest_home_ownership = le_own.transform(X_test.home_ownership)\ntest_purpose = le_purpose.transform(X_test.purpose)\n\ntest_grade = enc_grade.fit_transform(test_grade.reshape(-1,1))\ntest_home = enc_own.fit_transform(test_home_ownership.reshape(-1,1))\ntest_purpose = enc_purpose.fit_transform(test_purpose.reshape(-1,1))\n",
      "execution_count": 20,
      "outputs": []
    },
    {
      "metadata": {
        "trusted": true
      },
      "cell_type": "code",
      "source": "X_test = pd.concat([X_test[num],\n                     pd.DataFrame(np.hstack((test_grade, test_home, test_purpose)))], axis=1)",
      "execution_count": 21,
      "outputs": []
    },
    {
      "metadata": {
        "trusted": true
      },
      "cell_type": "code",
      "source": "test_comb = pd.concat([X_test, y_test], axis=1)",
      "execution_count": 22,
      "outputs": []
    },
    {
      "metadata": {
        "trusted": true
      },
      "cell_type": "code",
      "source": "test_comb = test_comb.dropna()",
      "execution_count": 23,
      "outputs": []
    },
    {
      "metadata": {
        "trusted": true
      },
      "cell_type": "code",
      "source": "test_comb.shape",
      "execution_count": 24,
      "outputs": [
        {
          "output_type": "execute_result",
          "execution_count": 24,
          "data": {
            "text/plain": "(1745, 38)"
          },
          "metadata": {}
        }
      ]
    },
    {
      "metadata": {
        "trusted": true
      },
      "cell_type": "code",
      "source": "y_test = test_comb['bad_loans']",
      "execution_count": 25,
      "outputs": []
    },
    {
      "metadata": {
        "trusted": true
      },
      "cell_type": "code",
      "source": "X_test = test_comb[X_test.columns]",
      "execution_count": 26,
      "outputs": []
    },
    {
      "metadata": {
        "trusted": true
      },
      "cell_type": "code",
      "source": "from sklearn.metrics import confusion_matrix, accuracy_score",
      "execution_count": 27,
      "outputs": []
    },
    {
      "metadata": {},
      "cell_type": "markdown",
      "source": "# Model 1:"
    },
    {
      "metadata": {
        "trusted": true
      },
      "cell_type": "code",
      "source": "clf = LogisticRegression()\nclf.fit(X_train, y_train)\nprint(confusion_matrix(clf.predict(X_train), y_train))\nprint(accuracy_score(clf.predict(X_train), y_train))\nprint(confusion_matrix(clf.predict(X_test), y_test))\nprint(accuracy_score(clf.predict(X_test), y_test))",
      "execution_count": 28,
      "outputs": [
        {
          "output_type": "stream",
          "text": "[[6914 2711]\n [  86   95]]\n0.7147664695084642\n[[1727    0]\n [  18    0]]\n0.9896848137535816\n",
          "name": "stdout"
        }
      ]
    },
    {
      "metadata": {},
      "cell_type": "markdown",
      "source": "# Model 2:"
    },
    {
      "metadata": {
        "trusted": true
      },
      "cell_type": "code",
      "source": "clf = GradientBoostingClassifier()\nclf.fit(X_train, y_train)\nprint(confusion_matrix(clf.predict(X_train), y_train))\nprint(accuracy_score(clf.predict(X_train), y_train))\nprint(confusion_matrix(clf.predict(X_test), y_test))\nprint(accuracy_score(clf.predict(X_test), y_test))",
      "execution_count": 29,
      "outputs": [
        {
          "output_type": "stream",
          "text": "[[6961 2613]\n [  39  193]]\n0.7295533346930451\n[[1725    0]\n [  20    0]]\n0.9885386819484241\n",
          "name": "stdout"
        }
      ]
    },
    {
      "metadata": {},
      "cell_type": "markdown",
      "source": "# Model 3:"
    },
    {
      "metadata": {
        "trusted": true
      },
      "cell_type": "code",
      "source": "clf = DecisionTreeClassifier()\nclf.fit(X_train, y_train)\nprint(confusion_matrix(clf.predict(X_train), y_train))\nprint(accuracy_score(clf.predict(X_train), y_train))\nprint(confusion_matrix(clf.predict(X_test), y_test))\nprint(accuracy_score(clf.predict(X_test), y_test))",
      "execution_count": 30,
      "outputs": [
        {
          "output_type": "stream",
          "text": "[[7000    0]\n [   0 2806]]\n1.0\n[[1253    0]\n [ 492    0]]\n0.7180515759312321\n",
          "name": "stdout"
        }
      ]
    },
    {
      "metadata": {},
      "cell_type": "markdown",
      "source": "# Model 4:"
    },
    {
      "metadata": {
        "trusted": true
      },
      "cell_type": "code",
      "source": "clf = RandomForestClassifier()\nclf.fit(X_train, y_train)\nprint(confusion_matrix(clf.predict(X_train), y_train))\nprint(accuracy_score(clf.predict(X_train), y_train))\nprint(confusion_matrix(clf.predict(X_test), y_test))\nprint(accuracy_score(clf.predict(X_test), y_test))",
      "execution_count": 31,
      "outputs": [
        {
          "output_type": "stream",
          "text": "[[6998  241]\n [   2 2565]]\n0.9752192535182541\n[[1615    0]\n [ 130    0]]\n0.9255014326647565\n",
          "name": "stdout"
        }
      ]
    },
    {
      "metadata": {},
      "cell_type": "markdown",
      "source": "***"
    }
  ],
  "metadata": {
    "kernelspec": {
      "name": "python3",
      "display_name": "Python 3",
      "language": "python"
    },
    "language_info": {
      "mimetype": "text/x-python",
      "nbconvert_exporter": "python",
      "name": "python",
      "pygments_lexer": "ipython3",
      "version": "3.5.4",
      "file_extension": ".py",
      "codemirror_mode": {
        "version": 3,
        "name": "ipython"
      }
    }
  },
  "nbformat": 4,
  "nbformat_minor": 2
}