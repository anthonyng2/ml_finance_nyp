{
  "cells": [
    {
      "metadata": {
        "heading_collapsed": true,
        "hidden": true
      },
      "cell_type": "markdown",
      "source": "## Linear Regression (Scikit-Learn)"
    },
    {
      "metadata": {
        "heading_collapsed": true,
        "hidden": true
      },
      "cell_type": "markdown",
      "source": "### Introduction"
    },
    {
      "metadata": {
        "hidden": true
      },
      "cell_type": "markdown",
      "source": "Since we are using all the features, this is really a multiple regression\n\nSimple Linear Regression:\n\n$$y = \\beta_0 + \\beta_1X$$\n\nMultiple Linear Regression:\n\n$$y = \\beta_0 + \\beta_1X_1 + \\beta_2X_2 + ...$$\n\nWell studied field in statistics\n\nFocus will be on what is relevant for Data Science - practical and relevant for prediction"
    },
    {
      "metadata": {
        "trusted": true
      },
      "cell_type": "code",
      "source": "import pandas as pd    # Import Pandas\nimport numpy as np     # Import Numpy, \nimport seaborn as sns  # Import Seaborn, visualisation library\nimport matplotlib.pyplot as plt\nsns.set(color_codes=True)\n%matplotlib inline",
      "execution_count": 1,
      "outputs": []
    },
    {
      "metadata": {
        "trusted": true
      },
      "cell_type": "code",
      "source": "df = pd.read_csv('housing.data', delim_whitespace=True, header=None)\ncol_name = ['CRIM', 'ZN' , 'INDUS', 'CHAS', 'NOX', 'RM', 'AGE', \n            'DIS', 'RAD', 'TAX', 'PTRATIO', 'B', 'LSTAT', 'MEDV']\ndf.columns = col_name",
      "execution_count": 2,
      "outputs": []
    },
    {
      "metadata": {
        "hidden": true,
        "trusted": true
      },
      "cell_type": "code",
      "source": "len(df)",
      "execution_count": 3,
      "outputs": [
        {
          "output_type": "execute_result",
          "execution_count": 3,
          "data": {
            "text/plain": "506"
          },
          "metadata": {}
        }
      ]
    },
    {
      "metadata": {
        "trusted": true
      },
      "cell_type": "code",
      "source": "df.info()",
      "execution_count": 4,
      "outputs": [
        {
          "output_type": "stream",
          "text": "<class 'pandas.core.frame.DataFrame'>\nRangeIndex: 506 entries, 0 to 505\nData columns (total 14 columns):\nCRIM       506 non-null float64\nZN         506 non-null float64\nINDUS      506 non-null float64\nCHAS       506 non-null int64\nNOX        506 non-null float64\nRM         506 non-null float64\nAGE        506 non-null float64\nDIS        506 non-null float64\nRAD        506 non-null int64\nTAX        506 non-null float64\nPTRATIO    506 non-null float64\nB          506 non-null float64\nLSTAT      506 non-null float64\nMEDV       506 non-null float64\ndtypes: float64(12), int64(2)\nmemory usage: 55.4 KB\n",
          "name": "stdout"
        }
      ]
    },
    {
      "metadata": {
        "trusted": true
      },
      "cell_type": "code",
      "source": "df = df.astype(\"float64\")\ndf.info()",
      "execution_count": 5,
      "outputs": [
        {
          "output_type": "stream",
          "text": "<class 'pandas.core.frame.DataFrame'>\nRangeIndex: 506 entries, 0 to 505\nData columns (total 14 columns):\nCRIM       506 non-null float64\nZN         506 non-null float64\nINDUS      506 non-null float64\nCHAS       506 non-null float64\nNOX        506 non-null float64\nRM         506 non-null float64\nAGE        506 non-null float64\nDIS        506 non-null float64\nRAD        506 non-null float64\nTAX        506 non-null float64\nPTRATIO    506 non-null float64\nB          506 non-null float64\nLSTAT      506 non-null float64\nMEDV       506 non-null float64\ndtypes: float64(14)\nmemory usage: 55.4 KB\n",
          "name": "stdout"
        }
      ]
    },
    {
      "metadata": {
        "hidden": true,
        "scrolled": true,
        "trusted": true
      },
      "cell_type": "code",
      "source": "x = df.copy()\ny = x.pop('MEDV')\ny.head()",
      "execution_count": 6,
      "outputs": [
        {
          "output_type": "execute_result",
          "execution_count": 6,
          "data": {
            "text/plain": "0    24.0\n1    21.6\n2    34.7\n3    33.4\n4    36.2\nName: MEDV, dtype: float64"
          },
          "metadata": {}
        }
      ]
    },
    {
      "metadata": {
        "hidden": true,
        "trusted": true
      },
      "cell_type": "code",
      "source": "from sklearn.model_selection import train_test_split",
      "execution_count": 7,
      "outputs": []
    },
    {
      "metadata": {
        "hidden": true,
        "trusted": true
      },
      "cell_type": "code",
      "source": "X_train, X_test, y_train, y_test = train_test_split(x, y, \n                                                    test_size=0.2, \n                                                    random_state=0)",
      "execution_count": 8,
      "outputs": []
    },
    {
      "metadata": {
        "hidden": true,
        "trusted": true
      },
      "cell_type": "code",
      "source": "from sklearn.linear_model import LinearRegression\nmodel = LinearRegression()\nmodel.fit(X_train, y_train)",
      "execution_count": 9,
      "outputs": [
        {
          "output_type": "execute_result",
          "execution_count": 9,
          "data": {
            "text/plain": "LinearRegression(copy_X=True, fit_intercept=True, n_jobs=1, normalize=False)"
          },
          "metadata": {}
        }
      ]
    },
    {
      "metadata": {
        "hidden": true
      },
      "cell_type": "markdown",
      "source": "For Linear Regression the `.score` method returns the coefficient of determination R^2 of the prediction."
    },
    {
      "metadata": {
        "hidden": true,
        "trusted": true
      },
      "cell_type": "code",
      "source": "model.score(X_test, y_test)",
      "execution_count": 10,
      "outputs": [
        {
          "output_type": "execute_result",
          "execution_count": 10,
          "data": {
            "text/plain": "0.5892223849182507"
          },
          "metadata": {}
        }
      ]
    },
    {
      "metadata": {
        "heading_collapsed": true,
        "hidden": true
      },
      "cell_type": "markdown",
      "source": "### Cross Validation Metrics"
    },
    {
      "metadata": {
        "hidden": true
      },
      "cell_type": "markdown",
      "source": "The mean score and the 95% confidence interval of the score estimate are:"
    },
    {
      "metadata": {
        "hidden": true,
        "trusted": true
      },
      "cell_type": "code",
      "source": "from sklearn.model_selection import cross_val_score\nscores = cross_val_score(model, x, y, cv=10)\nprint(\"Accuracy: {:.2f} (+/- {:2f})\".format(scores.mean(), scores.std() * 2))",
      "execution_count": 11,
      "outputs": [
        {
          "output_type": "stream",
          "text": "Accuracy: 0.20 (+/- 1.190592)\n",
          "name": "stdout"
        }
      ]
    },
    {
      "metadata": {
        "hidden": true,
        "trusted": true
      },
      "cell_type": "code",
      "source": "scores",
      "execution_count": 12,
      "outputs": [
        {
          "output_type": "execute_result",
          "execution_count": 12,
          "data": {
            "text/plain": "array([ 0.73376082,  0.4730725 , -1.00631454,  0.64113984,  0.54766046,\n        0.73640292,  0.37828386, -0.12922703, -0.76843243,  0.4189435 ])"
          },
          "metadata": {}
        }
      ]
    },
    {
      "metadata": {
        "hidden": true,
        "trusted": true
      },
      "cell_type": "code",
      "source": "scores.std() * 2",
      "execution_count": 13,
      "outputs": [
        {
          "output_type": "execute_result",
          "execution_count": 13,
          "data": {
            "text/plain": "1.1905920339024707"
          },
          "metadata": {}
        }
      ]
    },
    {
      "metadata": {
        "hidden": true
      },
      "cell_type": "markdown",
      "source": "By default, the score computed at each CV iteration is the score method of the estimator. It is possible to change this by using the scoring parameter:"
    },
    {
      "metadata": {
        "hidden": true,
        "trusted": true
      },
      "cell_type": "code",
      "source": "from sklearn import metrics\nscores = cross_val_score(model, x, y, cv=10, \n                         scoring='neg_mean_squared_error')\nprint(\"Accuracy: %0.2f (+/- %0.2f)\" % (scores.mean(), scores.std() * 2))",
      "execution_count": 14,
      "outputs": [
        {
          "output_type": "stream",
          "text": "Accuracy: -34.71 (+/- 91.15)\n",
          "name": "stdout"
        }
      ]
    },
    {
      "metadata": {
        "heading_collapsed": true,
        "hidden": true
      },
      "cell_type": "markdown",
      "source": "### K-fold"
    },
    {
      "metadata": {
        "hidden": true
      },
      "cell_type": "markdown",
      "source": "`KFold` divides all the samples in k groups of samples, called folds (if k = n, this is equivalent to the Leave One Out strategy), of equal sizes (if possible). \n\nThe prediction function is learned using k - 1 folds, and the fold left out is used for test."
    },
    {
      "metadata": {
        "trusted": true
      },
      "cell_type": "code",
      "source": "from sklearn.model_selection import KFold\n\nkf = KFold(n_splits=10)\nprint(kf)\nx_mat = x.values\ny_mat = y.values\nfor k, (train, test) in enumerate(kf.split(x, y)):\n    model.fit(x_mat[train], y_mat[train])\n    print(\"[fold {0}] score: {1:.5f}\".\n          format(k, model.score(x_mat[test], y_mat[test])))",
      "execution_count": 15,
      "outputs": [
        {
          "output_type": "stream",
          "text": "KFold(n_splits=10, random_state=None, shuffle=False)\n[fold 0] score: 0.73376\n[fold 1] score: 0.47307\n[fold 2] score: -1.00631\n[fold 3] score: 0.64114\n[fold 4] score: 0.54766\n[fold 5] score: 0.73640\n[fold 6] score: 0.37828\n[fold 7] score: -0.12923\n[fold 8] score: -0.76843\n[fold 9] score: 0.41894\n",
          "name": "stdout"
        }
      ]
    },
    {
      "metadata": {
        "heading_collapsed": true,
        "hidden": true
      },
      "cell_type": "markdown",
      "source": "### Stratified k-fold"
    },
    {
      "metadata": {
        "hidden": true
      },
      "cell_type": "markdown",
      "source": "StratifiedKFold is a variation of k-fold which returns stratified folds. \n\nEach set contains approximately the same percentage of samples of each target class as the complete set.\n\nExample of stratified 3-fold cross-validation on a dataset with 10 samples from two slightly unbalanced classes:"
    },
    {
      "metadata": {
        "hidden": true,
        "trusted": true
      },
      "cell_type": "code",
      "source": "from sklearn.model_selection import StratifiedKFold\n\nX = np.ones(10)\ny = [0, 0, 0, 0, 1, 1, 1, 1, 1, 1]\nskf = StratifiedKFold(n_splits=3)\nfor train, test in skf.split(X, y):\n    print(\"%s %s\" % (train, test))",
      "execution_count": 16,
      "outputs": [
        {
          "output_type": "stream",
          "text": "[2 3 6 7 8 9] [0 1 4 5]\n[0 1 3 4 5 8 9] [2 6 7]\n[0 1 2 4 5 6 7] [3 8 9]\n",
          "name": "stdout"
        }
      ]
    },
    {
      "metadata": {
        "heading_collapsed": true,
        "hidden": true
      },
      "cell_type": "markdown",
      "source": "### Pipeline"
    },
    {
      "metadata": {
        "hidden": true,
        "trusted": true
      },
      "cell_type": "code",
      "source": "from sklearn.preprocessing import StandardScaler\nfrom sklearn.decomposition import PCA\n#from sklearn.linear_model import LogisticRegression\n#from sklearn import svm\nfrom sklearn.pipeline import make_pipeline\n#pipe_lr = make_pipeline(StandardScaler(),\n#                        PCA(n_components=2),\n#                        LogisticRegression(random_state=1))\npipe_lr = make_pipeline(StandardScaler(),\n                        PCA(n_components=2),\n                        LinearRegression())\npipe_lr.fit(X_train, y_train)\ny_pred = pipe_lr.predict(X_test)\nprint('Test Accuracy: %.3f' % pipe_lr.score(X_test, y_test))",
      "execution_count": 17,
      "outputs": [
        {
          "output_type": "stream",
          "text": "Test Accuracy: 0.152\n",
          "name": "stdout"
        }
      ]
    },
    {
      "metadata": {
        "hidden": true,
        "trusted": true
      },
      "cell_type": "code",
      "source": "from sklearn.model_selection import cross_val_score\nscores = cross_val_score(estimator=pipe_lr,\n                         X=X_train,\n                         y=y_train,\n                         cv=10,\n                         n_jobs=1)\nprint('CV accuracy scores: %s' % scores)\n",
      "execution_count": 18,
      "outputs": [
        {
          "output_type": "stream",
          "text": "CV accuracy scores: [0.68458401 0.57569872 0.52903043 0.42679008 0.37777769 0.40929353\n 0.33015399 0.4240238  0.45776745 0.47910694]\n",
          "name": "stdout"
        }
      ]
    },
    {
      "metadata": {
        "hidden": true,
        "trusted": true
      },
      "cell_type": "code",
      "source": "print('CV accuracy: %.3f +/- %.3f' % (np.mean(scores),\n                                      np.std(scores)))",
      "execution_count": 19,
      "outputs": [
        {
          "output_type": "stream",
          "text": "CV accuracy: 0.469 +/- 0.098\n",
          "name": "stdout"
        }
      ]
    },
    {
      "metadata": {
        "heading_collapsed": true
      },
      "cell_type": "markdown",
      "source": "# Model Performance Metrics"
    },
    {
      "metadata": {
        "heading_collapsed": true,
        "hidden": true
      },
      "cell_type": "markdown",
      "source": "### Introduction"
    },
    {
      "metadata": {
        "hidden": true
      },
      "cell_type": "markdown",
      "source": "In the previous section we covered some topics that we have not talked about before. They are\n\n* Performance Metrics\n* Cross Validation"
    },
    {
      "metadata": {
        "hidden": true
      },
      "cell_type": "markdown",
      "source": "Three basic performance metrics we can use for measuring the performance of a regression model. There are more. These are the common metrics.\n\n* Mean Squared Error (MSE)\n* Coefficient of Determination ($R^2$)\n* Residual Analysis"
    },
    {
      "metadata": {
        "hidden": true,
        "trusted": true
      },
      "cell_type": "code",
      "source": "from sklearn.model_selection import train_test_split\n\ndf = pd.read_csv('housing.data', delim_whitespace=True, header=None)\ndf.columns = ['CRIM', 'ZN' , 'INDUS', 'CHAS', 'NOX', 'RM', 'AGE', 'DIS', \n              'RAD', 'TAX', 'PTRATIO', 'B', 'LSTAT', 'MEDV']\nX = df.iloc[:, :-1].values\ny = df['MEDV'].values\nX_train, X_test, y_train, y_test = train_test_split(X, y, test_size=0.2, random_state=0)",
      "execution_count": 20,
      "outputs": []
    },
    {
      "metadata": {
        "hidden": true,
        "trusted": true
      },
      "cell_type": "code",
      "source": "lr = LinearRegression()\nlr.fit(X_train, y_train)\ny_train_pred = lr.predict(X_train)\ny_test_pred = lr.predict(X_test)",
      "execution_count": 21,
      "outputs": []
    },
    {
      "metadata": {
        "heading_collapsed": true,
        "hidden": true
      },
      "cell_type": "markdown",
      "source": "### Method 1: Mean Squared Error (MSE)"
    },
    {
      "metadata": {
        "hidden": true
      },
      "cell_type": "markdown",
      "source": "\n\n$$MSE=\\frac{1}{n}\\sum^n_{i=1}(y_i-\\hat{y}_i)^2$$\n\n* The average value of the Sums of Squared Error cost function  \n\n* Useful for comparing different regression models \n\n* For tuning parameters via a grid search and cross-validation"
    },
    {
      "metadata": {
        "hidden": true,
        "trusted": true
      },
      "cell_type": "code",
      "source": "from sklearn.metrics import mean_squared_error\nprint(\"MSE : {:.2f}\".format(mean_squared_error(y_train, y_train_pred)))",
      "execution_count": 22,
      "outputs": [
        {
          "output_type": "stream",
          "text": "MSE : 19.33\n",
          "name": "stdout"
        }
      ]
    },
    {
      "metadata": {
        "hidden": true,
        "trusted": true
      },
      "cell_type": "code",
      "source": "print(\"MSE : {:.2f}\".format(mean_squared_error(y_test, y_test_pred)))",
      "execution_count": 23,
      "outputs": [
        {
          "output_type": "stream",
          "text": "MSE : 33.45\n",
          "name": "stdout"
        }
      ]
    },
    {
      "metadata": {
        "heading_collapsed": true,
        "hidden": true
      },
      "cell_type": "markdown",
      "source": "### Method 2: Coefficient of Determination, $R^2$"
    },
    {
      "metadata": {
        "hidden": true
      },
      "cell_type": "markdown",
      "source": "$$R^2 = 1 - \\frac{SSE}{SST}$$\n\nSSE: Sum of squared errors\n\nSST: Total sum of squares"
    },
    {
      "metadata": {
        "hidden": true,
        "trusted": true
      },
      "cell_type": "code",
      "source": "from sklearn.metrics import r2_score\nprint(\"R-squared : {:.2f} %\".format(r2_score(y_train, y_train_pred) * 100))",
      "execution_count": 24,
      "outputs": [
        {
          "output_type": "stream",
          "text": "R-squared : 77.30 %\n",
          "name": "stdout"
        }
      ]
    },
    {
      "metadata": {
        "hidden": true,
        "trusted": true
      },
      "cell_type": "code",
      "source": "print(\"R-squared : {:.2f} %\".format(r2_score(y_test, y_test_pred) * 100))",
      "execution_count": 25,
      "outputs": [
        {
          "output_type": "stream",
          "text": "R-squared : 58.92 %\n",
          "name": "stdout"
        }
      ]
    },
    {
      "metadata": {
        "heading_collapsed": true,
        "hidden": true
      },
      "cell_type": "markdown",
      "source": "### Method 3: Residual Analysis"
    },
    {
      "metadata": {
        "hidden": true,
        "trusted": true
      },
      "cell_type": "code",
      "source": "plt.figure(figsize=(12,8))\nplt.scatter(y_train_pred, y_train_pred - y_train, c='blue', marker='o', label='Training data')\nplt.scatter(y_test_pred, y_test_pred - y_test, c='orange', marker='*', label='Test data')\nplt.xlabel('Predicted values')\nplt.ylabel('Residuals')\nplt.legend(loc='upper left')\nplt.hlines(y=0, xmin=-10, xmax=50, lw=2, color='k')\nplt.xlim([-10, 50])\nplt.show()",
      "execution_count": 26,
      "outputs": [
        {
          "output_type": "display_data",
          "data": {
            "image/png": "[encoded data removed]",
            "text/plain": "<matplotlib.figure.Figure at 0x7f7fd11ade48>"
          },
          "metadata": {}
        }
      ]
    },
    {
      "metadata": {
        "hidden": true
      },
      "cell_type": "markdown",
      "source": "***"
    }
  ],
  "metadata": {
    "kernelspec": {
      "name": "python3",
      "display_name": "Python 3",
      "language": "python"
    },
    "language_info": {
      "mimetype": "text/x-python",
      "nbconvert_exporter": "python",
      "name": "python",
      "pygments_lexer": "ipython3",
      "version": "3.5.4",
      "file_extension": ".py",
      "codemirror_mode": {
        "version": 3,
        "name": "ipython"
      }
    }
  },
  "nbformat": 4,
  "nbformat_minor": 2
}