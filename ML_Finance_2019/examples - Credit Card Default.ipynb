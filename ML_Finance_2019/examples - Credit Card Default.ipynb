{
  "cells": [
    {
      "metadata": {},
      "cell_type": "markdown",
      "source": "# Credit Card Default"
    },
    {
      "metadata": {},
      "cell_type": "markdown",
      "source": "https://archive.ics.uci.edu/ml/datasets/default+of+credit+card+clients\n\nAttribute Information:\n\nThis research employed a binary variable, default payment (Yes = 1, No = 0), as the response variable. This study reviewed the literature and used the following 23 variables as explanatory variables: \n\n* X1: Amount of the given credit (NT dollar): it includes both the individual consumer credit and his/her family (supplementary) credit. \n* X2: Gender (1 = male; 2 = female). \n* X3: Education (1 = graduate school; 2 = university; 3 = high school; 4 = others). \n* X4: Marital status (1 = married; 2 = single; 3 = others). \n* X5: Age (year). \n\n\n* X6 - X11: History of past payment. We tracked the past monthly payment records (from April to September, 2005) as follows: \n* X6 = the repayment status in September, 2005; \n* X7 = the repayment status in August, 2005; . . .;\n* X11 = the repayment status in April, 2005. \n* The measurement scale for the repayment status is: \n    * -1 = pay duly; \n    * 1 = payment delay for one month; \n    * 2 = payment delay for two months; . . .; \n    * 8 = payment delay for eight months; \n    * 9 = payment delay for nine months and above. \n\n\n* X12-X17: Amount of bill statement (NT dollar). \n* X12 = amount of bill statement in September, 2005; \n* X13 = amount of bill statement in August, 2005; . . .; \n* X17 = amount of bill statement in April, 2005. \n\n\n* X18-X23: Amount of previous payment (NT dollar). \n* X18 = amount paid in September, 2005; \n* X19 = amount paid in August, 2005; . . .;\n* X23 = amount paid in April, 2005. \n\n"
    },
    {
      "metadata": {
        "trusted": true
      },
      "cell_type": "code",
      "source": "import pandas as pd\nimport numpy as np",
      "execution_count": 1,
      "outputs": []
    },
    {
      "metadata": {
        "trusted": true
      },
      "cell_type": "code",
      "source": "df = pd.read_excel(\"default of credit card clients.xls\", skiprows=1)\ndf.head()",
      "execution_count": 2,
      "outputs": [
        {
          "output_type": "execute_result",
          "execution_count": 2,
          "data": {
            "text/html": "<div>\n<table border=\"1\" class=\"dataframe\">\n  <thead>\n    <tr style=\"text-align: right;\">\n      <th></th>\n      <th>ID</th>\n      <th>LIMIT_BAL</th>\n      <th>SEX</th>\n      <th>EDUCATION</th>\n      <th>MARRIAGE</th>\n      <th>AGE</th>\n      <th>PAY_0</th>\n      <th>PAY_2</th>\n      <th>PAY_3</th>\n      <th>PAY_4</th>\n      <th>...</th>\n      <th>BILL_AMT4</th>\n      <th>BILL_AMT5</th>\n      <th>BILL_AMT6</th>\n      <th>PAY_AMT1</th>\n      <th>PAY_AMT2</th>\n      <th>PAY_AMT3</th>\n      <th>PAY_AMT4</th>\n      <th>PAY_AMT5</th>\n      <th>PAY_AMT6</th>\n      <th>default payment next month</th>\n    </tr>\n  </thead>\n  <tbody>\n    <tr>\n      <th>0</th>\n      <td>1</td>\n      <td>20000</td>\n      <td>2</td>\n      <td>2</td>\n      <td>1</td>\n      <td>24</td>\n      <td>2</td>\n      <td>2</td>\n      <td>-1</td>\n      <td>-1</td>\n      <td>...</td>\n      <td>0</td>\n      <td>0</td>\n      <td>0</td>\n      <td>0</td>\n      <td>689</td>\n      <td>0</td>\n      <td>0</td>\n      <td>0</td>\n      <td>0</td>\n      <td>1</td>\n    </tr>\n    <tr>\n      <th>1</th>\n      <td>2</td>\n      <td>120000</td>\n      <td>2</td>\n      <td>2</td>\n      <td>2</td>\n      <td>26</td>\n      <td>-1</td>\n      <td>2</td>\n      <td>0</td>\n      <td>0</td>\n      <td>...</td>\n      <td>3272</td>\n      <td>3455</td>\n      <td>3261</td>\n      <td>0</td>\n      <td>1000</td>\n      <td>1000</td>\n      <td>1000</td>\n      <td>0</td>\n      <td>2000</td>\n      <td>1</td>\n    </tr>\n    <tr>\n      <th>2</th>\n      <td>3</td>\n      <td>90000</td>\n      <td>2</td>\n      <td>2</td>\n      <td>2</td>\n      <td>34</td>\n      <td>0</td>\n      <td>0</td>\n      <td>0</td>\n      <td>0</td>\n      <td>...</td>\n      <td>14331</td>\n      <td>14948</td>\n      <td>15549</td>\n      <td>1518</td>\n      <td>1500</td>\n      <td>1000</td>\n      <td>1000</td>\n      <td>1000</td>\n      <td>5000</td>\n      <td>0</td>\n    </tr>\n    <tr>\n      <th>3</th>\n      <td>4</td>\n      <td>50000</td>\n      <td>2</td>\n      <td>2</td>\n      <td>1</td>\n      <td>37</td>\n      <td>0</td>\n      <td>0</td>\n      <td>0</td>\n      <td>0</td>\n      <td>...</td>\n      <td>28314</td>\n      <td>28959</td>\n      <td>29547</td>\n      <td>2000</td>\n      <td>2019</td>\n      <td>1200</td>\n      <td>1100</td>\n      <td>1069</td>\n      <td>1000</td>\n      <td>0</td>\n    </tr>\n    <tr>\n      <th>4</th>\n      <td>5</td>\n      <td>50000</td>\n      <td>1</td>\n      <td>2</td>\n      <td>1</td>\n      <td>57</td>\n      <td>-1</td>\n      <td>0</td>\n      <td>-1</td>\n      <td>0</td>\n      <td>...</td>\n      <td>20940</td>\n      <td>19146</td>\n      <td>19131</td>\n      <td>2000</td>\n      <td>36681</td>\n      <td>10000</td>\n      <td>9000</td>\n      <td>689</td>\n      <td>679</td>\n      <td>0</td>\n    </tr>\n  </tbody>\n</table>\n<p>5 rows × 25 columns</p>\n</div>",
            "text/plain": "   ID  LIMIT_BAL  SEX  EDUCATION  MARRIAGE  AGE  PAY_0  PAY_2  PAY_3  PAY_4  \\\n0   1      20000    2          2         1   24      2      2     -1     -1   \n1   2     120000    2          2         2   26     -1      2      0      0   \n2   3      90000    2          2         2   34      0      0      0      0   \n3   4      50000    2          2         1   37      0      0      0      0   \n4   5      50000    1          2         1   57     -1      0     -1      0   \n\n              ...              BILL_AMT4  BILL_AMT5  BILL_AMT6  PAY_AMT1  \\\n0             ...                      0          0          0         0   \n1             ...                   3272       3455       3261         0   \n2             ...                  14331      14948      15549      1518   \n3             ...                  28314      28959      29547      2000   \n4             ...                  20940      19146      19131      2000   \n\n   PAY_AMT2  PAY_AMT3  PAY_AMT4  PAY_AMT5  PAY_AMT6  \\\n0       689         0         0         0         0   \n1      1000      1000      1000         0      2000   \n2      1500      1000      1000      1000      5000   \n3      2019      1200      1100      1069      1000   \n4     36681     10000      9000       689       679   \n\n   default payment next month  \n0                           1  \n1                           1  \n2                           0  \n3                           0  \n4                           0  \n\n[5 rows x 25 columns]"
          },
          "metadata": {}
        }
      ]
    },
    {
      "metadata": {
        "trusted": true
      },
      "cell_type": "code",
      "source": "from IPython.display import HTML",
      "execution_count": 3,
      "outputs": []
    },
    {
      "metadata": {
        "trusted": true
      },
      "cell_type": "code",
      "source": "pd.set_option('display.max_colwidth', -1)\ndisplay(HTML(df.head().to_html()))\npd.reset_option('display.max_colwidth')",
      "execution_count": 4,
      "outputs": [
        {
          "output_type": "display_data",
          "data": {
            "text/html": "<table border=\"1\" class=\"dataframe\">\n  <thead>\n    <tr style=\"text-align: right;\">\n      <th></th>\n      <th>ID</th>\n      <th>LIMIT_BAL</th>\n      <th>SEX</th>\n      <th>EDUCATION</th>\n      <th>MARRIAGE</th>\n      <th>AGE</th>\n      <th>PAY_0</th>\n      <th>PAY_2</th>\n      <th>PAY_3</th>\n      <th>PAY_4</th>\n      <th>PAY_5</th>\n      <th>PAY_6</th>\n      <th>BILL_AMT1</th>\n      <th>BILL_AMT2</th>\n      <th>BILL_AMT3</th>\n      <th>BILL_AMT4</th>\n      <th>BILL_AMT5</th>\n      <th>BILL_AMT6</th>\n      <th>PAY_AMT1</th>\n      <th>PAY_AMT2</th>\n      <th>PAY_AMT3</th>\n      <th>PAY_AMT4</th>\n      <th>PAY_AMT5</th>\n      <th>PAY_AMT6</th>\n      <th>default payment next month</th>\n    </tr>\n  </thead>\n  <tbody>\n    <tr>\n      <th>0</th>\n      <td>1</td>\n      <td>20000</td>\n      <td>2</td>\n      <td>2</td>\n      <td>1</td>\n      <td>24</td>\n      <td>2</td>\n      <td>2</td>\n      <td>-1</td>\n      <td>-1</td>\n      <td>-2</td>\n      <td>-2</td>\n      <td>3913</td>\n      <td>3102</td>\n      <td>689</td>\n      <td>0</td>\n      <td>0</td>\n      <td>0</td>\n      <td>0</td>\n      <td>689</td>\n      <td>0</td>\n      <td>0</td>\n      <td>0</td>\n      <td>0</td>\n      <td>1</td>\n    </tr>\n    <tr>\n      <th>1</th>\n      <td>2</td>\n      <td>120000</td>\n      <td>2</td>\n      <td>2</td>\n      <td>2</td>\n      <td>26</td>\n      <td>-1</td>\n      <td>2</td>\n      <td>0</td>\n      <td>0</td>\n      <td>0</td>\n      <td>2</td>\n      <td>2682</td>\n      <td>1725</td>\n      <td>2682</td>\n      <td>3272</td>\n      <td>3455</td>\n      <td>3261</td>\n      <td>0</td>\n      <td>1000</td>\n      <td>1000</td>\n      <td>1000</td>\n      <td>0</td>\n      <td>2000</td>\n      <td>1</td>\n    </tr>\n    <tr>\n      <th>2</th>\n      <td>3</td>\n      <td>90000</td>\n      <td>2</td>\n      <td>2</td>\n      <td>2</td>\n      <td>34</td>\n      <td>0</td>\n      <td>0</td>\n      <td>0</td>\n      <td>0</td>\n      <td>0</td>\n      <td>0</td>\n      <td>29239</td>\n      <td>14027</td>\n      <td>13559</td>\n      <td>14331</td>\n      <td>14948</td>\n      <td>15549</td>\n      <td>1518</td>\n      <td>1500</td>\n      <td>1000</td>\n      <td>1000</td>\n      <td>1000</td>\n      <td>5000</td>\n      <td>0</td>\n    </tr>\n    <tr>\n      <th>3</th>\n      <td>4</td>\n      <td>50000</td>\n      <td>2</td>\n      <td>2</td>\n      <td>1</td>\n      <td>37</td>\n      <td>0</td>\n      <td>0</td>\n      <td>0</td>\n      <td>0</td>\n      <td>0</td>\n      <td>0</td>\n      <td>46990</td>\n      <td>48233</td>\n      <td>49291</td>\n      <td>28314</td>\n      <td>28959</td>\n      <td>29547</td>\n      <td>2000</td>\n      <td>2019</td>\n      <td>1200</td>\n      <td>1100</td>\n      <td>1069</td>\n      <td>1000</td>\n      <td>0</td>\n    </tr>\n    <tr>\n      <th>4</th>\n      <td>5</td>\n      <td>50000</td>\n      <td>1</td>\n      <td>2</td>\n      <td>1</td>\n      <td>57</td>\n      <td>-1</td>\n      <td>0</td>\n      <td>-1</td>\n      <td>0</td>\n      <td>0</td>\n      <td>0</td>\n      <td>8617</td>\n      <td>5670</td>\n      <td>35835</td>\n      <td>20940</td>\n      <td>19146</td>\n      <td>19131</td>\n      <td>2000</td>\n      <td>36681</td>\n      <td>10000</td>\n      <td>9000</td>\n      <td>689</td>\n      <td>679</td>\n      <td>0</td>\n    </tr>\n  </tbody>\n</table>",
            "text/plain": "<IPython.core.display.HTML object>"
          },
          "metadata": {}
        }
      ]
    },
    {
      "metadata": {
        "trusted": true
      },
      "cell_type": "code",
      "source": "",
      "execution_count": null,
      "outputs": []
    },
    {
      "metadata": {
        "trusted": true
      },
      "cell_type": "code",
      "source": "list(df.columns)",
      "execution_count": 5,
      "outputs": [
        {
          "output_type": "execute_result",
          "execution_count": 5,
          "data": {
            "text/plain": "['ID',\n 'LIMIT_BAL',\n 'SEX',\n 'EDUCATION',\n 'MARRIAGE',\n 'AGE',\n 'PAY_0',\n 'PAY_2',\n 'PAY_3',\n 'PAY_4',\n 'PAY_5',\n 'PAY_6',\n 'BILL_AMT1',\n 'BILL_AMT2',\n 'BILL_AMT3',\n 'BILL_AMT4',\n 'BILL_AMT5',\n 'BILL_AMT6',\n 'PAY_AMT1',\n 'PAY_AMT2',\n 'PAY_AMT3',\n 'PAY_AMT4',\n 'PAY_AMT5',\n 'PAY_AMT6',\n 'default payment next month']"
          },
          "metadata": {}
        }
      ]
    },
    {
      "metadata": {
        "trusted": true
      },
      "cell_type": "code",
      "source": "df.info()",
      "execution_count": 6,
      "outputs": [
        {
          "output_type": "stream",
          "text": "<class 'pandas.core.frame.DataFrame'>\nRangeIndex: 30000 entries, 0 to 29999\nData columns (total 25 columns):\nID                            30000 non-null int64\nLIMIT_BAL                     30000 non-null int64\nSEX                           30000 non-null int64\nEDUCATION                     30000 non-null int64\nMARRIAGE                      30000 non-null int64\nAGE                           30000 non-null int64\nPAY_0                         30000 non-null int64\nPAY_2                         30000 non-null int64\nPAY_3                         30000 non-null int64\nPAY_4                         30000 non-null int64\nPAY_5                         30000 non-null int64\nPAY_6                         30000 non-null int64\nBILL_AMT1                     30000 non-null int64\nBILL_AMT2                     30000 non-null int64\nBILL_AMT3                     30000 non-null int64\nBILL_AMT4                     30000 non-null int64\nBILL_AMT5                     30000 non-null int64\nBILL_AMT6                     30000 non-null int64\nPAY_AMT1                      30000 non-null int64\nPAY_AMT2                      30000 non-null int64\nPAY_AMT3                      30000 non-null int64\nPAY_AMT4                      30000 non-null int64\nPAY_AMT5                      30000 non-null int64\nPAY_AMT6                      30000 non-null int64\ndefault payment next month    30000 non-null int64\ndtypes: int64(25)\nmemory usage: 5.7 MB\n",
          "name": "stdout"
        }
      ]
    },
    {
      "metadata": {},
      "cell_type": "markdown",
      "source": "# Gender\n\nConvert gender to 0, 1 instead of 1, 2"
    },
    {
      "metadata": {
        "trusted": true
      },
      "cell_type": "code",
      "source": "df[\"SEX\"] = df[\"SEX\"] - 1.",
      "execution_count": 7,
      "outputs": []
    },
    {
      "metadata": {
        "trusted": true
      },
      "cell_type": "code",
      "source": "df[\"SEX\"].value_counts()",
      "execution_count": 8,
      "outputs": [
        {
          "output_type": "execute_result",
          "execution_count": 8,
          "data": {
            "text/plain": "1.0    18112\n0.0    11888\nName: SEX, dtype: int64"
          },
          "metadata": {}
        }
      ]
    },
    {
      "metadata": {},
      "cell_type": "markdown",
      "source": "# Education\n\nOne Hot Encoding"
    },
    {
      "metadata": {
        "trusted": true
      },
      "cell_type": "code",
      "source": "df[\"EDUCATION\"].value_counts()",
      "execution_count": 9,
      "outputs": [
        {
          "output_type": "execute_result",
          "execution_count": 9,
          "data": {
            "text/plain": "2    14030\n1    10585\n3     4917\n5      280\n4      123\n6       51\n0       14\nName: EDUCATION, dtype: int64"
          },
          "metadata": {}
        }
      ]
    },
    {
      "metadata": {},
      "cell_type": "markdown",
      "source": "## 1. Using Keras Utilities"
    },
    {
      "metadata": {
        "trusted": true
      },
      "cell_type": "code",
      "source": "from keras.utils import to_categorical\nencoded = to_categorical(df[\"EDUCATION\"])\nprint(encoded[:10])",
      "execution_count": 10,
      "outputs": [
        {
          "output_type": "stream",
          "text": "/home/nbuser/anaconda3_420/lib/python3.5/site-packages/h5py/__init__.py:36: FutureWarning: Conversion of the second argument of issubdtype from `float` to `np.floating` is deprecated. In future, it will be treated as `np.float64 == np.dtype(float).type`.\n  from ._conv import register_converters as _register_converters\nUsing TensorFlow backend.\n",
          "name": "stderr"
        },
        {
          "output_type": "stream",
          "text": "[[0. 0. 1. 0. 0. 0. 0.]\n [0. 0. 1. 0. 0. 0. 0.]\n [0. 0. 1. 0. 0. 0. 0.]\n [0. 0. 1. 0. 0. 0. 0.]\n [0. 0. 1. 0. 0. 0. 0.]\n [0. 1. 0. 0. 0. 0. 0.]\n [0. 1. 0. 0. 0. 0. 0.]\n [0. 0. 1. 0. 0. 0. 0.]\n [0. 0. 0. 1. 0. 0. 0.]\n [0. 0. 0. 1. 0. 0. 0.]]\n",
          "name": "stdout"
        }
      ]
    },
    {
      "metadata": {
        "trusted": true
      },
      "cell_type": "code",
      "source": "df[\"EDUCATION\"].head(10)",
      "execution_count": 11,
      "outputs": [
        {
          "output_type": "execute_result",
          "execution_count": 11,
          "data": {
            "text/plain": "0    2\n1    2\n2    2\n3    2\n4    2\n5    1\n6    1\n7    2\n8    3\n9    3\nName: EDUCATION, dtype: int64"
          },
          "metadata": {}
        }
      ]
    },
    {
      "metadata": {},
      "cell_type": "markdown",
      "source": "## 2. Alternative Method"
    },
    {
      "metadata": {
        "trusted": true
      },
      "cell_type": "code",
      "source": "unique_edu = df[\"EDUCATION\"].unique()\nunique_edu",
      "execution_count": 12,
      "outputs": [
        {
          "output_type": "execute_result",
          "execution_count": 12,
          "data": {
            "text/plain": "array([2, 1, 3, 5, 4, 6, 0])"
          },
          "metadata": {}
        }
      ]
    },
    {
      "metadata": {
        "trusted": true
      },
      "cell_type": "code",
      "source": "from sklearn.preprocessing import OneHotEncoder\nonehot_encoder = OneHotEncoder(sparse=False)\nunique_edu = unique_edu.reshape(len(unique_edu), 1)\nonehot_encoded = onehot_encoder.fit_transform(unique_edu)",
      "execution_count": 13,
      "outputs": []
    },
    {
      "metadata": {
        "trusted": true
      },
      "cell_type": "code",
      "source": "print(onehot_encoded)",
      "execution_count": 14,
      "outputs": [
        {
          "output_type": "stream",
          "text": "[[0. 0. 1. 0. 0. 0. 0.]\n [0. 1. 0. 0. 0. 0. 0.]\n [0. 0. 0. 1. 0. 0. 0.]\n [0. 0. 0. 0. 0. 1. 0.]\n [0. 0. 0. 0. 1. 0. 0.]\n [0. 0. 0. 0. 0. 0. 1.]\n [1. 0. 0. 0. 0. 0. 0.]]\n",
          "name": "stdout"
        }
      ]
    },
    {
      "metadata": {},
      "cell_type": "markdown",
      "source": "# Marriage"
    },
    {
      "metadata": {
        "trusted": true
      },
      "cell_type": "code",
      "source": "df[\"MARRIAGE\"] = df[\"MARRIAGE\"] - 1.0",
      "execution_count": 15,
      "outputs": []
    },
    {
      "metadata": {
        "trusted": true
      },
      "cell_type": "code",
      "source": "df[\"MARRIAGE\"].value_counts()",
      "execution_count": 16,
      "outputs": [
        {
          "output_type": "execute_result",
          "execution_count": 16,
          "data": {
            "text/plain": " 1.0    15964\n 0.0    13659\n 2.0      323\n-1.0       54\nName: MARRIAGE, dtype: int64"
          },
          "metadata": {}
        }
      ]
    },
    {
      "metadata": {},
      "cell_type": "markdown",
      "source": "We need to decide what to do with 0 and -1. \n\n1 and 2 are male; 2 = female respectively\n\nWe will convert -1 to 0. "
    },
    {
      "metadata": {
        "trusted": true
      },
      "cell_type": "code",
      "source": "df[\"MARRIAGE\"].iloc[np.where(df[\"MARRIAGE\"] == -1.0)] = 0",
      "execution_count": 17,
      "outputs": [
        {
          "output_type": "stream",
          "text": "/home/nbuser/anaconda3_420/lib/python3.5/site-packages/pandas/core/indexing.py:141: SettingWithCopyWarning: \nA value is trying to be set on a copy of a slice from a DataFrame\n\nSee the caveats in the documentation: http://pandas.pydata.org/pandas-docs/stable/indexing.html#indexing-view-versus-copy\n  self._setitem_with_indexer(indexer, value)\n",
          "name": "stderr"
        }
      ]
    },
    {
      "metadata": {},
      "cell_type": "markdown",
      "source": "# Age"
    },
    {
      "metadata": {
        "scrolled": true,
        "trusted": true
      },
      "cell_type": "code",
      "source": "df[\"AGE\"].value_counts()",
      "execution_count": 18,
      "outputs": [
        {
          "output_type": "execute_result",
          "execution_count": 18,
          "data": {
            "text/plain": "29    1605\n27    1477\n28    1409\n30    1395\n26    1256\n31    1217\n25    1186\n34    1162\n32    1158\n33    1146\n24    1127\n35    1113\n36    1108\n37    1041\n39     954\n38     944\n23     931\n40     870\n41     824\n42     794\n44     700\n43     670\n45     617\n46     570\n22     560\n47     501\n48     466\n49     452\n50     411\n51     340\n53     325\n52     304\n54     247\n55     209\n56     178\n58     122\n57     122\n59      83\n60      67\n21      67\n61      56\n62      44\n63      31\n64      31\n66      25\n65      24\n67      16\n69      15\n70      10\n68       5\n73       4\n71       3\n72       3\n75       3\n74       1\n79       1\nName: AGE, dtype: int64"
          },
          "metadata": {}
        }
      ]
    },
    {
      "metadata": {},
      "cell_type": "markdown",
      "source": "A question we should ask ourselves is should we bin our data?\n\nLet's try without binning for now"
    },
    {
      "metadata": {},
      "cell_type": "markdown",
      "source": "# PAY_0, ... PAY_06"
    },
    {
      "metadata": {
        "trusted": true
      },
      "cell_type": "code",
      "source": "df[\"PAY_0\"].value_counts()",
      "execution_count": 19,
      "outputs": [
        {
          "output_type": "execute_result",
          "execution_count": 19,
          "data": {
            "text/plain": " 0    14737\n-1     5686\n 1     3688\n-2     2759\n 2     2667\n 3      322\n 4       76\n 5       26\n 8       19\n 6       11\n 7        9\nName: PAY_0, dtype: int64"
          },
          "metadata": {}
        }
      ]
    },
    {
      "metadata": {},
      "cell_type": "markdown",
      "source": "# Bill Statement\n\nX12-X17: Amount of bill statement (NT dollar).\n\nX12 = amount of bill statement in September, 2005;\n\nX13 = amount of bill statement in August, 2005; . . .;\n\nX17 = amount of bill statement in April, 2005.\n"
    },
    {
      "metadata": {
        "scrolled": true,
        "trusted": true
      },
      "cell_type": "code",
      "source": "df[\"BILL_AMT1\"].value_counts()",
      "execution_count": 20,
      "outputs": [
        {
          "output_type": "execute_result",
          "execution_count": 20,
          "data": {
            "text/plain": " 0         2008\n 390        244\n 780         76\n 326         72\n 316         63\n 2500        59\n 396         49\n 2400        39\n 416         29\n 500         25\n 1050        25\n 1473        24\n-200         22\n 1261        22\n-5           22\n 836         21\n 264         20\n-3           19\n 291         19\n 600         18\n-2           17\n 360         17\n-4           16\n 1000        16\n-1           16\n 150         14\n 300         14\n 200         14\n 325         14\n 632         13\n           ... \n 33370        1\n 35419        1\n 78428        1\n 47709        1\n 10847        1\n 16994        1\n 19043        1\n 225892       1\n 31333        1\n 29252        1\n 68859        1\n 285249       1\n 16946        1\n 39465        1\n 33322        1\n 2603         1\n 47661        1\n 74286        1\n-33           1\n 250416       1\n 225844       1\n 48596        1\n 31285        1\n 93625        1\n 59959        1\n 12466        1\n 98874        1\n 2619         1\n 14909        1\n 44984        1\nName: BILL_AMT1, dtype: int64"
          },
          "metadata": {}
        }
      ]
    },
    {
      "metadata": {},
      "cell_type": "markdown",
      "source": "# Previous Payment\n\nX18-X23: Amount of previous payment (NT dollar).\n\nX18 = amount paid in September, 2005;\n\nX19 = amount paid in August, 2005; . . .;\n\nX23 = amount paid in April, 2005."
    },
    {
      "metadata": {
        "scrolled": true,
        "trusted": true
      },
      "cell_type": "code",
      "source": "df[\"PAY_AMT1\"].value_counts()",
      "execution_count": 21,
      "outputs": [
        {
          "output_type": "execute_result",
          "execution_count": 21,
          "data": {
            "text/plain": "0         5249\n2000      1363\n3000       891\n5000       698\n1500       507\n4000       426\n10000      401\n1000       365\n2500       298\n6000       294\n390        207\n7000       195\n3500       185\n1300       184\n8000       176\n1600       174\n1800       167\n1700       157\n1200       136\n2100       129\n4500       108\n2200       108\n1400        97\n15000       97\n3200        84\n20000       80\n9000        80\n2300        70\n6500        70\n11000       68\n          ... \n236          1\n13952        1\n40453        1\n16001        1\n10473        1\n71316        1\n20710        1\n24800        1\n7845         1\n34470        1\n3671         1\n1622         1\n5716         1\n20047        1\n10505        1\n50702        1\n19983        1\n160002       1\n6972         1\n3607         1\n4350         1\n5668         1\n252          1\n20015        1\n7733         1\n24125        1\n20031        1\n9019         1\n11066        1\n10850        1\nName: PAY_AMT1, dtype: int64"
          },
          "metadata": {}
        }
      ]
    },
    {
      "metadata": {},
      "cell_type": "markdown",
      "source": "There are a few things we need to pay attention to here. \n\nWe ought to ask ourselves. Is raw bill statement amount important? This informs us how much is owed. How do we tell if this is significant. Of course, it is related to their assets and income. However, we lacked those information.\n\nLet's example previous payment. What kind of assumptions or hypothesis can we make initially. Payment is important. Amount repaid is also important. Do we need to engineer some features? Say relate payment with the amount owed?\n\nDo we combine the credit card limit with bill amount. I.e., is the amount he owe close to the limit of his credit card balance? Does it matter? A simple feature we can engineer may be to divide the amount billed with the credit card limit."
    },
    {
      "metadata": {},
      "cell_type": "markdown",
      "source": "# Model"
    },
    {
      "metadata": {},
      "cell_type": "markdown",
      "source": "Let's start with some simple model. Logistic regression. \n\n\n"
    },
    {
      "metadata": {
        "trusted": true
      },
      "cell_type": "code",
      "source": "from sklearn.linear_model import LogisticRegression\nfrom sklearn.ensemble import RandomForestClassifier",
      "execution_count": 22,
      "outputs": [
        {
          "output_type": "stream",
          "text": "/home/nbuser/anaconda3_420/lib/python3.5/site-packages/sklearn/ensemble/weight_boosting.py:29: DeprecationWarning: numpy.core.umath_tests is an internal NumPy module and should not be imported. It will be removed in a future NumPy release.\n  from numpy.core.umath_tests import inner1d\n",
          "name": "stderr"
        }
      ]
    },
    {
      "metadata": {
        "scrolled": true,
        "trusted": true
      },
      "cell_type": "code",
      "source": "features = pd.concat([df[['LIMIT_BAL', 'SEX', 'AGE', 'EDUCATION',\n                          'PAY_0', 'PAY_2', 'PAY_3', \n                          'PAY_4', 'PAY_5', 'PAY_6',\n                          'BILL_AMT1', 'BILL_AMT2', 'BILL_AMT3', \n                          'BILL_AMT4', 'BILL_AMT5', 'BILL_AMT6',\n                          'PAY_AMT1', 'PAY_AMT2', 'PAY_AMT3',\n                          'PAY_AMT4', 'PAY_AMT5', 'PAY_AMT6']], pd.DataFrame(encoded)], axis=1)\nfeatures.head()",
      "execution_count": 23,
      "outputs": [
        {
          "output_type": "execute_result",
          "execution_count": 23,
          "data": {
            "text/html": "<div>\n<table border=\"1\" class=\"dataframe\">\n  <thead>\n    <tr style=\"text-align: right;\">\n      <th></th>\n      <th>LIMIT_BAL</th>\n      <th>SEX</th>\n      <th>AGE</th>\n      <th>EDUCATION</th>\n      <th>PAY_0</th>\n      <th>PAY_2</th>\n      <th>PAY_3</th>\n      <th>PAY_4</th>\n      <th>PAY_5</th>\n      <th>PAY_6</th>\n      <th>...</th>\n      <th>PAY_AMT4</th>\n      <th>PAY_AMT5</th>\n      <th>PAY_AMT6</th>\n      <th>0</th>\n      <th>1</th>\n      <th>2</th>\n      <th>3</th>\n      <th>4</th>\n      <th>5</th>\n      <th>6</th>\n    </tr>\n  </thead>\n  <tbody>\n    <tr>\n      <th>0</th>\n      <td>20000</td>\n      <td>1.0</td>\n      <td>24</td>\n      <td>2</td>\n      <td>2</td>\n      <td>2</td>\n      <td>-1</td>\n      <td>-1</td>\n      <td>-2</td>\n      <td>-2</td>\n      <td>...</td>\n      <td>0</td>\n      <td>0</td>\n      <td>0</td>\n      <td>0.0</td>\n      <td>0.0</td>\n      <td>1.0</td>\n      <td>0.0</td>\n      <td>0.0</td>\n      <td>0.0</td>\n      <td>0.0</td>\n    </tr>\n    <tr>\n      <th>1</th>\n      <td>120000</td>\n      <td>1.0</td>\n      <td>26</td>\n      <td>2</td>\n      <td>-1</td>\n      <td>2</td>\n      <td>0</td>\n      <td>0</td>\n      <td>0</td>\n      <td>2</td>\n      <td>...</td>\n      <td>1000</td>\n      <td>0</td>\n      <td>2000</td>\n      <td>0.0</td>\n      <td>0.0</td>\n      <td>1.0</td>\n      <td>0.0</td>\n      <td>0.0</td>\n      <td>0.0</td>\n      <td>0.0</td>\n    </tr>\n    <tr>\n      <th>2</th>\n      <td>90000</td>\n      <td>1.0</td>\n      <td>34</td>\n      <td>2</td>\n      <td>0</td>\n      <td>0</td>\n      <td>0</td>\n      <td>0</td>\n      <td>0</td>\n      <td>0</td>\n      <td>...</td>\n      <td>1000</td>\n      <td>1000</td>\n      <td>5000</td>\n      <td>0.0</td>\n      <td>0.0</td>\n      <td>1.0</td>\n      <td>0.0</td>\n      <td>0.0</td>\n      <td>0.0</td>\n      <td>0.0</td>\n    </tr>\n    <tr>\n      <th>3</th>\n      <td>50000</td>\n      <td>1.0</td>\n      <td>37</td>\n      <td>2</td>\n      <td>0</td>\n      <td>0</td>\n      <td>0</td>\n      <td>0</td>\n      <td>0</td>\n      <td>0</td>\n      <td>...</td>\n      <td>1100</td>\n      <td>1069</td>\n      <td>1000</td>\n      <td>0.0</td>\n      <td>0.0</td>\n      <td>1.0</td>\n      <td>0.0</td>\n      <td>0.0</td>\n      <td>0.0</td>\n      <td>0.0</td>\n    </tr>\n    <tr>\n      <th>4</th>\n      <td>50000</td>\n      <td>0.0</td>\n      <td>57</td>\n      <td>2</td>\n      <td>-1</td>\n      <td>0</td>\n      <td>-1</td>\n      <td>0</td>\n      <td>0</td>\n      <td>0</td>\n      <td>...</td>\n      <td>9000</td>\n      <td>689</td>\n      <td>679</td>\n      <td>0.0</td>\n      <td>0.0</td>\n      <td>1.0</td>\n      <td>0.0</td>\n      <td>0.0</td>\n      <td>0.0</td>\n      <td>0.0</td>\n    </tr>\n  </tbody>\n</table>\n<p>5 rows × 29 columns</p>\n</div>",
            "text/plain": "   LIMIT_BAL  SEX  AGE  EDUCATION  PAY_0  PAY_2  PAY_3  PAY_4  PAY_5  PAY_6  \\\n0      20000  1.0   24          2      2      2     -1     -1     -2     -2   \n1     120000  1.0   26          2     -1      2      0      0      0      2   \n2      90000  1.0   34          2      0      0      0      0      0      0   \n3      50000  1.0   37          2      0      0      0      0      0      0   \n4      50000  0.0   57          2     -1      0     -1      0      0      0   \n\n  ...   PAY_AMT4  PAY_AMT5  PAY_AMT6    0    1    2    3    4    5    6  \n0 ...          0         0         0  0.0  0.0  1.0  0.0  0.0  0.0  0.0  \n1 ...       1000         0      2000  0.0  0.0  1.0  0.0  0.0  0.0  0.0  \n2 ...       1000      1000      5000  0.0  0.0  1.0  0.0  0.0  0.0  0.0  \n3 ...       1100      1069      1000  0.0  0.0  1.0  0.0  0.0  0.0  0.0  \n4 ...       9000       689       679  0.0  0.0  1.0  0.0  0.0  0.0  0.0  \n\n[5 rows x 29 columns]"
          },
          "metadata": {}
        }
      ]
    },
    {
      "metadata": {
        "trusted": true
      },
      "cell_type": "code",
      "source": "n = 25000",
      "execution_count": 24,
      "outputs": []
    },
    {
      "metadata": {
        "trusted": true
      },
      "cell_type": "code",
      "source": "from sklearn.metrics import confusion_matrix, accuracy_score",
      "execution_count": 25,
      "outputs": []
    },
    {
      "metadata": {},
      "cell_type": "markdown",
      "source": "## Model 1:"
    },
    {
      "metadata": {
        "trusted": true
      },
      "cell_type": "code",
      "source": "clf = LogisticRegression()",
      "execution_count": 26,
      "outputs": []
    },
    {
      "metadata": {
        "trusted": true
      },
      "cell_type": "code",
      "source": "clf.fit(features[:n], df[\"default payment next month\"].values[:n])\ny_train_pred = clf.predict(features[:n])\ny_test_pred = clf.predict(features[n:])",
      "execution_count": 27,
      "outputs": []
    },
    {
      "metadata": {},
      "cell_type": "markdown",
      "source": "## Train"
    },
    {
      "metadata": {
        "trusted": true
      },
      "cell_type": "code",
      "source": "print(confusion_matrix(df[\"default payment next month\"].values[:n], \n                       y_train_pred))\nprint(accuracy_score(df[\"default payment next month\"].values[:n],\n                     y_train_pred))",
      "execution_count": 28,
      "outputs": [
        {
          "output_type": "stream",
          "text": "[[19418     4]\n [ 5578     0]]\n0.77672\n",
          "name": "stdout"
        }
      ]
    },
    {
      "metadata": {},
      "cell_type": "markdown",
      "source": "## Test"
    },
    {
      "metadata": {
        "trusted": true
      },
      "cell_type": "code",
      "source": "print(confusion_matrix(df[\"default payment next month\"].values[n:], \n                       y_test_pred))\nprint(accuracy_score(df[\"default payment next month\"].values[n:],\n                     y_test_pred))",
      "execution_count": 29,
      "outputs": [
        {
          "output_type": "stream",
          "text": "[[3942    0]\n [1058    0]]\n0.7884\n",
          "name": "stdout"
        }
      ]
    },
    {
      "metadata": {},
      "cell_type": "markdown",
      "source": "## Model 2:"
    },
    {
      "metadata": {
        "trusted": true
      },
      "cell_type": "code",
      "source": "clf = RandomForestClassifier(random_state=42)",
      "execution_count": 30,
      "outputs": []
    },
    {
      "metadata": {
        "trusted": true
      },
      "cell_type": "code",
      "source": "clf.fit(features[:n], df[\"default payment next month\"].values[:n])\ny_train_pred = clf.predict(features[:n])\ny_test_pred = clf.predict(features[n:])",
      "execution_count": 31,
      "outputs": []
    },
    {
      "metadata": {},
      "cell_type": "markdown",
      "source": "## Train"
    },
    {
      "metadata": {
        "trusted": true
      },
      "cell_type": "code",
      "source": "print(confusion_matrix(df[\"default payment next month\"].values[:n], \n                       y_train_pred))\nprint(accuracy_score(df[\"default payment next month\"].values[:n],\n                     y_train_pred))",
      "execution_count": 32,
      "outputs": [
        {
          "output_type": "stream",
          "text": "[[19381    41]\n [  480  5098]]\n0.97916\n",
          "name": "stdout"
        }
      ]
    },
    {
      "metadata": {},
      "cell_type": "markdown",
      "source": "## Test"
    },
    {
      "metadata": {
        "trusted": true
      },
      "cell_type": "code",
      "source": "print(confusion_matrix(df[\"default payment next month\"].values[n:], \n                       y_test_pred))\nprint(accuracy_score(df[\"default payment next month\"].values[n:],\n                     y_test_pred))",
      "execution_count": 33,
      "outputs": [
        {
          "output_type": "stream",
          "text": "[[3738  204]\n [ 703  355]]\n0.8186\n",
          "name": "stdout"
        }
      ]
    },
    {
      "metadata": {},
      "cell_type": "markdown",
      "source": "***"
    }
  ],
  "metadata": {
    "kernelspec": {
      "name": "python3",
      "display_name": "Python 3",
      "language": "python"
    },
    "language_info": {
      "mimetype": "text/x-python",
      "nbconvert_exporter": "python",
      "name": "python",
      "pygments_lexer": "ipython3",
      "version": "3.5.4",
      "file_extension": ".py",
      "codemirror_mode": {
        "version": 3,
        "name": "ipython"
      }
    }
  },
  "nbformat": 4,
  "nbformat_minor": 2
}