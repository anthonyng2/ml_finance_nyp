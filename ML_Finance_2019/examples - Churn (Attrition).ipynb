{
  "cells": [
    {
      "metadata": {},
      "cell_type": "markdown",
      "source": "# Project HR\n\nPredict attrition of your valuable employees\n\n[IBM HR Analytics Employee Attrition & Performance](https://www.kaggle.com/pavansubhasht/ibm-hr-analytics-attrition-dataset)"
    },
    {
      "metadata": {
        "trusted": true
      },
      "cell_type": "code",
      "source": "import pandas as pd\nimport numpy as np\nimport matplotlib.pyplot as plt\n%matplotlib inline\n\nfrom sklearn.model_selection import train_test_split\nfrom sklearn.preprocessing import OneHotEncoder, LabelBinarizer\nfrom sklearn.ensemble import GradientBoostingClassifier, RandomForestClassifier\nfrom sklearn.linear_model import LogisticRegression\nfrom sklearn.tree import DecisionTreeClassifier\nfrom sklearn.metrics import roc_curve, auc, confusion_matrix",
      "execution_count": 14,
      "outputs": []
    },
    {
      "metadata": {
        "trusted": true
      },
      "cell_type": "code",
      "source": "df = pd.read_csv(\"WA_Fn-UseC_-HR-Employee-Attrition.csv\")\ndf.head()",
      "execution_count": 15,
      "outputs": [
        {
          "output_type": "execute_result",
          "execution_count": 15,
          "data": {
            "text/html": "<div>\n<table border=\"1\" class=\"dataframe\">\n  <thead>\n    <tr style=\"text-align: right;\">\n      <th></th>\n      <th>Age</th>\n      <th>Attrition</th>\n      <th>BusinessTravel</th>\n      <th>DailyRate</th>\n      <th>Department</th>\n      <th>DistanceFromHome</th>\n      <th>Education</th>\n      <th>EducationField</th>\n      <th>EmployeeCount</th>\n      <th>EmployeeNumber</th>\n      <th>...</th>\n      <th>RelationshipSatisfaction</th>\n      <th>StandardHours</th>\n      <th>StockOptionLevel</th>\n      <th>TotalWorkingYears</th>\n      <th>TrainingTimesLastYear</th>\n      <th>WorkLifeBalance</th>\n      <th>YearsAtCompany</th>\n      <th>YearsInCurrentRole</th>\n      <th>YearsSinceLastPromotion</th>\n      <th>YearsWithCurrManager</th>\n    </tr>\n  </thead>\n  <tbody>\n    <tr>\n      <th>0</th>\n      <td>41</td>\n      <td>Yes</td>\n      <td>Travel_Rarely</td>\n      <td>1102</td>\n      <td>Sales</td>\n      <td>1</td>\n      <td>2</td>\n      <td>Life Sciences</td>\n      <td>1</td>\n      <td>1</td>\n      <td>...</td>\n      <td>1</td>\n      <td>80</td>\n      <td>0</td>\n      <td>8</td>\n      <td>0</td>\n      <td>1</td>\n      <td>6</td>\n      <td>4</td>\n      <td>0</td>\n      <td>5</td>\n    </tr>\n    <tr>\n      <th>1</th>\n      <td>49</td>\n      <td>No</td>\n      <td>Travel_Frequently</td>\n      <td>279</td>\n      <td>Research &amp; Development</td>\n      <td>8</td>\n      <td>1</td>\n      <td>Life Sciences</td>\n      <td>1</td>\n      <td>2</td>\n      <td>...</td>\n      <td>4</td>\n      <td>80</td>\n      <td>1</td>\n      <td>10</td>\n      <td>3</td>\n      <td>3</td>\n      <td>10</td>\n      <td>7</td>\n      <td>1</td>\n      <td>7</td>\n    </tr>\n    <tr>\n      <th>2</th>\n      <td>37</td>\n      <td>Yes</td>\n      <td>Travel_Rarely</td>\n      <td>1373</td>\n      <td>Research &amp; Development</td>\n      <td>2</td>\n      <td>2</td>\n      <td>Other</td>\n      <td>1</td>\n      <td>4</td>\n      <td>...</td>\n      <td>2</td>\n      <td>80</td>\n      <td>0</td>\n      <td>7</td>\n      <td>3</td>\n      <td>3</td>\n      <td>0</td>\n      <td>0</td>\n      <td>0</td>\n      <td>0</td>\n    </tr>\n    <tr>\n      <th>3</th>\n      <td>33</td>\n      <td>No</td>\n      <td>Travel_Frequently</td>\n      <td>1392</td>\n      <td>Research &amp; Development</td>\n      <td>3</td>\n      <td>4</td>\n      <td>Life Sciences</td>\n      <td>1</td>\n      <td>5</td>\n      <td>...</td>\n      <td>3</td>\n      <td>80</td>\n      <td>0</td>\n      <td>8</td>\n      <td>3</td>\n      <td>3</td>\n      <td>8</td>\n      <td>7</td>\n      <td>3</td>\n      <td>0</td>\n    </tr>\n    <tr>\n      <th>4</th>\n      <td>27</td>\n      <td>No</td>\n      <td>Travel_Rarely</td>\n      <td>591</td>\n      <td>Research &amp; Development</td>\n      <td>2</td>\n      <td>1</td>\n      <td>Medical</td>\n      <td>1</td>\n      <td>7</td>\n      <td>...</td>\n      <td>4</td>\n      <td>80</td>\n      <td>1</td>\n      <td>6</td>\n      <td>3</td>\n      <td>3</td>\n      <td>2</td>\n      <td>2</td>\n      <td>2</td>\n      <td>2</td>\n    </tr>\n  </tbody>\n</table>\n<p>5 rows × 35 columns</p>\n</div>",
            "text/plain": "   Age Attrition     BusinessTravel  DailyRate              Department  \\\n0   41       Yes      Travel_Rarely       1102                   Sales   \n1   49        No  Travel_Frequently        279  Research & Development   \n2   37       Yes      Travel_Rarely       1373  Research & Development   \n3   33        No  Travel_Frequently       1392  Research & Development   \n4   27        No      Travel_Rarely        591  Research & Development   \n\n   DistanceFromHome  Education EducationField  EmployeeCount  EmployeeNumber  \\\n0                 1          2  Life Sciences              1               1   \n1                 8          1  Life Sciences              1               2   \n2                 2          2          Other              1               4   \n3                 3          4  Life Sciences              1               5   \n4                 2          1        Medical              1               7   \n\n           ...           RelationshipSatisfaction StandardHours  \\\n0          ...                                  1            80   \n1          ...                                  4            80   \n2          ...                                  2            80   \n3          ...                                  3            80   \n4          ...                                  4            80   \n\n   StockOptionLevel  TotalWorkingYears  TrainingTimesLastYear WorkLifeBalance  \\\n0                 0                  8                      0               1   \n1                 1                 10                      3               3   \n2                 0                  7                      3               3   \n3                 0                  8                      3               3   \n4                 1                  6                      3               3   \n\n   YearsAtCompany YearsInCurrentRole  YearsSinceLastPromotion  \\\n0               6                  4                        0   \n1              10                  7                        1   \n2               0                  0                        0   \n3               8                  7                        3   \n4               2                  2                        2   \n\n   YearsWithCurrManager  \n0                     5  \n1                     7  \n2                     0  \n3                     0  \n4                     2  \n\n[5 rows x 35 columns]"
          },
          "metadata": {}
        }
      ]
    },
    {
      "metadata": {
        "trusted": true
      },
      "cell_type": "code",
      "source": "from IPython.display import HTML\npd.set_option('display.max_colwidth', -1)\ndisplay(HTML(df.head().to_html()))\npd.reset_option('display.max_colwidth')",
      "execution_count": 16,
      "outputs": [
        {
          "output_type": "display_data",
          "data": {
            "text/html": "<table border=\"1\" class=\"dataframe\">\n  <thead>\n    <tr style=\"text-align: right;\">\n      <th></th>\n      <th>Age</th>\n      <th>Attrition</th>\n      <th>BusinessTravel</th>\n      <th>DailyRate</th>\n      <th>Department</th>\n      <th>DistanceFromHome</th>\n      <th>Education</th>\n      <th>EducationField</th>\n      <th>EmployeeCount</th>\n      <th>EmployeeNumber</th>\n      <th>EnvironmentSatisfaction</th>\n      <th>Gender</th>\n      <th>HourlyRate</th>\n      <th>JobInvolvement</th>\n      <th>JobLevel</th>\n      <th>JobRole</th>\n      <th>JobSatisfaction</th>\n      <th>MaritalStatus</th>\n      <th>MonthlyIncome</th>\n      <th>MonthlyRate</th>\n      <th>NumCompaniesWorked</th>\n      <th>Over18</th>\n      <th>OverTime</th>\n      <th>PercentSalaryHike</th>\n      <th>PerformanceRating</th>\n      <th>RelationshipSatisfaction</th>\n      <th>StandardHours</th>\n      <th>StockOptionLevel</th>\n      <th>TotalWorkingYears</th>\n      <th>TrainingTimesLastYear</th>\n      <th>WorkLifeBalance</th>\n      <th>YearsAtCompany</th>\n      <th>YearsInCurrentRole</th>\n      <th>YearsSinceLastPromotion</th>\n      <th>YearsWithCurrManager</th>\n    </tr>\n  </thead>\n  <tbody>\n    <tr>\n      <th>0</th>\n      <td>41</td>\n      <td>Yes</td>\n      <td>Travel_Rarely</td>\n      <td>1102</td>\n      <td>Sales</td>\n      <td>1</td>\n      <td>2</td>\n      <td>Life Sciences</td>\n      <td>1</td>\n      <td>1</td>\n      <td>2</td>\n      <td>Female</td>\n      <td>94</td>\n      <td>3</td>\n      <td>2</td>\n      <td>Sales Executive</td>\n      <td>4</td>\n      <td>Single</td>\n      <td>5993</td>\n      <td>19479</td>\n      <td>8</td>\n      <td>Y</td>\n      <td>Yes</td>\n      <td>11</td>\n      <td>3</td>\n      <td>1</td>\n      <td>80</td>\n      <td>0</td>\n      <td>8</td>\n      <td>0</td>\n      <td>1</td>\n      <td>6</td>\n      <td>4</td>\n      <td>0</td>\n      <td>5</td>\n    </tr>\n    <tr>\n      <th>1</th>\n      <td>49</td>\n      <td>No</td>\n      <td>Travel_Frequently</td>\n      <td>279</td>\n      <td>Research &amp; Development</td>\n      <td>8</td>\n      <td>1</td>\n      <td>Life Sciences</td>\n      <td>1</td>\n      <td>2</td>\n      <td>3</td>\n      <td>Male</td>\n      <td>61</td>\n      <td>2</td>\n      <td>2</td>\n      <td>Research Scientist</td>\n      <td>2</td>\n      <td>Married</td>\n      <td>5130</td>\n      <td>24907</td>\n      <td>1</td>\n      <td>Y</td>\n      <td>No</td>\n      <td>23</td>\n      <td>4</td>\n      <td>4</td>\n      <td>80</td>\n      <td>1</td>\n      <td>10</td>\n      <td>3</td>\n      <td>3</td>\n      <td>10</td>\n      <td>7</td>\n      <td>1</td>\n      <td>7</td>\n    </tr>\n    <tr>\n      <th>2</th>\n      <td>37</td>\n      <td>Yes</td>\n      <td>Travel_Rarely</td>\n      <td>1373</td>\n      <td>Research &amp; Development</td>\n      <td>2</td>\n      <td>2</td>\n      <td>Other</td>\n      <td>1</td>\n      <td>4</td>\n      <td>4</td>\n      <td>Male</td>\n      <td>92</td>\n      <td>2</td>\n      <td>1</td>\n      <td>Laboratory Technician</td>\n      <td>3</td>\n      <td>Single</td>\n      <td>2090</td>\n      <td>2396</td>\n      <td>6</td>\n      <td>Y</td>\n      <td>Yes</td>\n      <td>15</td>\n      <td>3</td>\n      <td>2</td>\n      <td>80</td>\n      <td>0</td>\n      <td>7</td>\n      <td>3</td>\n      <td>3</td>\n      <td>0</td>\n      <td>0</td>\n      <td>0</td>\n      <td>0</td>\n    </tr>\n    <tr>\n      <th>3</th>\n      <td>33</td>\n      <td>No</td>\n      <td>Travel_Frequently</td>\n      <td>1392</td>\n      <td>Research &amp; Development</td>\n      <td>3</td>\n      <td>4</td>\n      <td>Life Sciences</td>\n      <td>1</td>\n      <td>5</td>\n      <td>4</td>\n      <td>Female</td>\n      <td>56</td>\n      <td>3</td>\n      <td>1</td>\n      <td>Research Scientist</td>\n      <td>3</td>\n      <td>Married</td>\n      <td>2909</td>\n      <td>23159</td>\n      <td>1</td>\n      <td>Y</td>\n      <td>Yes</td>\n      <td>11</td>\n      <td>3</td>\n      <td>3</td>\n      <td>80</td>\n      <td>0</td>\n      <td>8</td>\n      <td>3</td>\n      <td>3</td>\n      <td>8</td>\n      <td>7</td>\n      <td>3</td>\n      <td>0</td>\n    </tr>\n    <tr>\n      <th>4</th>\n      <td>27</td>\n      <td>No</td>\n      <td>Travel_Rarely</td>\n      <td>591</td>\n      <td>Research &amp; Development</td>\n      <td>2</td>\n      <td>1</td>\n      <td>Medical</td>\n      <td>1</td>\n      <td>7</td>\n      <td>1</td>\n      <td>Male</td>\n      <td>40</td>\n      <td>3</td>\n      <td>1</td>\n      <td>Laboratory Technician</td>\n      <td>2</td>\n      <td>Married</td>\n      <td>3468</td>\n      <td>16632</td>\n      <td>9</td>\n      <td>Y</td>\n      <td>No</td>\n      <td>12</td>\n      <td>3</td>\n      <td>4</td>\n      <td>80</td>\n      <td>1</td>\n      <td>6</td>\n      <td>3</td>\n      <td>3</td>\n      <td>2</td>\n      <td>2</td>\n      <td>2</td>\n      <td>2</td>\n    </tr>\n  </tbody>\n</table>",
            "text/plain": "<IPython.core.display.HTML object>"
          },
          "metadata": {}
        }
      ]
    },
    {
      "metadata": {
        "trusted": true
      },
      "cell_type": "code",
      "source": "df.info()",
      "execution_count": 17,
      "outputs": [
        {
          "output_type": "stream",
          "text": "<class 'pandas.core.frame.DataFrame'>\nRangeIndex: 1470 entries, 0 to 1469\nData columns (total 35 columns):\nAge                         1470 non-null int64\nAttrition                   1470 non-null object\nBusinessTravel              1470 non-null object\nDailyRate                   1470 non-null int64\nDepartment                  1470 non-null object\nDistanceFromHome            1470 non-null int64\nEducation                   1470 non-null int64\nEducationField              1470 non-null object\nEmployeeCount               1470 non-null int64\nEmployeeNumber              1470 non-null int64\nEnvironmentSatisfaction     1470 non-null int64\nGender                      1470 non-null object\nHourlyRate                  1470 non-null int64\nJobInvolvement              1470 non-null int64\nJobLevel                    1470 non-null int64\nJobRole                     1470 non-null object\nJobSatisfaction             1470 non-null int64\nMaritalStatus               1470 non-null object\nMonthlyIncome               1470 non-null int64\nMonthlyRate                 1470 non-null int64\nNumCompaniesWorked          1470 non-null int64\nOver18                      1470 non-null object\nOverTime                    1470 non-null object\nPercentSalaryHike           1470 non-null int64\nPerformanceRating           1470 non-null int64\nRelationshipSatisfaction    1470 non-null int64\nStandardHours               1470 non-null int64\nStockOptionLevel            1470 non-null int64\nTotalWorkingYears           1470 non-null int64\nTrainingTimesLastYear       1470 non-null int64\nWorkLifeBalance             1470 non-null int64\nYearsAtCompany              1470 non-null int64\nYearsInCurrentRole          1470 non-null int64\nYearsSinceLastPromotion     1470 non-null int64\nYearsWithCurrManager        1470 non-null int64\ndtypes: int64(26), object(9)\nmemory usage: 402.0+ KB\n",
          "name": "stdout"
        }
      ]
    },
    {
      "metadata": {
        "trusted": true
      },
      "cell_type": "code",
      "source": "df.columns",
      "execution_count": 18,
      "outputs": [
        {
          "output_type": "execute_result",
          "execution_count": 18,
          "data": {
            "text/plain": "Index(['Age', 'Attrition', 'BusinessTravel', 'DailyRate', 'Department',\n       'DistanceFromHome', 'Education', 'EducationField', 'EmployeeCount',\n       'EmployeeNumber', 'EnvironmentSatisfaction', 'Gender', 'HourlyRate',\n       'JobInvolvement', 'JobLevel', 'JobRole', 'JobSatisfaction',\n       'MaritalStatus', 'MonthlyIncome', 'MonthlyRate', 'NumCompaniesWorked',\n       'Over18', 'OverTime', 'PercentSalaryHike', 'PerformanceRating',\n       'RelationshipSatisfaction', 'StandardHours', 'StockOptionLevel',\n       'TotalWorkingYears', 'TrainingTimesLastYear', 'WorkLifeBalance',\n       'YearsAtCompany', 'YearsInCurrentRole', 'YearsSinceLastPromotion',\n       'YearsWithCurrManager'],\n      dtype='object')"
          },
          "metadata": {}
        }
      ]
    },
    {
      "metadata": {
        "trusted": true
      },
      "cell_type": "code",
      "source": "features = ['Age', 'BusinessTravel', 'DailyRate', 'Department',\n       'DistanceFromHome', 'Education', 'EducationField', 'EmployeeCount',\n       'EmployeeNumber', 'EnvironmentSatisfaction', 'Gender', 'HourlyRate',\n       'JobInvolvement', 'JobLevel', 'JobRole', 'JobSatisfaction',\n       'MaritalStatus', 'MonthlyIncome', 'MonthlyRate', 'NumCompaniesWorked',\n       'Over18', 'OverTime', 'PercentSalaryHike', 'PerformanceRating',\n       'RelationshipSatisfaction', 'StandardHours', 'StockOptionLevel',\n       'TotalWorkingYears', 'TrainingTimesLastYear', 'WorkLifeBalance',\n       'YearsAtCompany', 'YearsInCurrentRole', 'YearsSinceLastPromotion',\n       'YearsWithCurrManager']",
      "execution_count": 19,
      "outputs": []
    },
    {
      "metadata": {
        "trusted": true
      },
      "cell_type": "code",
      "source": "df.Attrition.value_counts()",
      "execution_count": 20,
      "outputs": [
        {
          "output_type": "execute_result",
          "execution_count": 20,
          "data": {
            "text/plain": "No     1233\nYes     237\nName: Attrition, dtype: int64"
          },
          "metadata": {}
        }
      ]
    },
    {
      "metadata": {
        "trusted": true
      },
      "cell_type": "code",
      "source": "X = df[features]\ny = df.Attrition",
      "execution_count": 21,
      "outputs": []
    },
    {
      "metadata": {
        "trusted": true
      },
      "cell_type": "code",
      "source": "X_train, X_test, y_train, y_test = train_test_split(X, y, test_size=0.3, random_state=42, \n                                                    stratify=y)",
      "execution_count": 22,
      "outputs": []
    },
    {
      "metadata": {
        "trusted": true
      },
      "cell_type": "code",
      "source": "from sklearn import preprocessing\nfrom sklearn.preprocessing import OneHotEncoder",
      "execution_count": 23,
      "outputs": []
    },
    {
      "metadata": {
        "trusted": true
      },
      "cell_type": "code",
      "source": "num = ['Age', 'DailyRate', 'DistanceFromHome', 'Education', 'EmployeeCount', 'EmployeeNumber', \n       'EnvironmentSatisfaction', 'HourlyRate', 'JobInvolvement', 'JobLevel', 'JobSatisfaction',             \n       'MonthlyIncome', 'MonthlyRate', 'NumCompaniesWorked', 'PercentSalaryHike', 'PerformanceRating',\n       'RelationshipSatisfaction', 'StandardHours', 'StockOptionLevel', 'TotalWorkingYears',\n       'TrainingTimesLastYear', 'WorkLifeBalance', 'YearsAtCompany', 'YearsInCurrentRole',\n       'YearsSinceLastPromotion', 'YearsWithCurrManager']\n\ncat = ['BusinessTravel', 'Department', 'EducationField', 'Gender', 'JobRole', \n       'MaritalStatus', 'Over18', 'OverTime']",
      "execution_count": 24,
      "outputs": []
    },
    {
      "metadata": {
        "trusted": true
      },
      "cell_type": "code",
      "source": "le_bt = preprocessing.LabelEncoder()\nle_dept = preprocessing.LabelEncoder()\nle_edu = preprocessing.LabelEncoder()\nle_gender = preprocessing.LabelEncoder()\nle_job = preprocessing.LabelEncoder()\nle_marri = preprocessing.LabelEncoder()\nle_over18 = preprocessing.LabelEncoder()\nle_ot = preprocessing.LabelEncoder()\n\nenc_bt = OneHotEncoder(sparse=False)\nenc_dept = OneHotEncoder(sparse=False)\nenc_edu = OneHotEncoder(sparse=False)\nenc_gender = OneHotEncoder(sparse=False)\nenc_job = OneHotEncoder(sparse=False)\nenc_marri = OneHotEncoder(sparse=False)\nenc_over18 = OneHotEncoder(sparse=False)\nenc_ot = OneHotEncoder(sparse=False)\n\nbt = le_bt.fit_transform(X_train.BusinessTravel)\ndept = le_dept.fit_transform(X_train.Department)\nedu = le_edu.fit_transform(X_train.EducationField)\ngender = le_gender.fit_transform(X_train.Gender)\njob = le_job.fit_transform(X_train.JobRole)\nmarri = le_marri.fit_transform(X_train.MaritalStatus)\nover18 = le_over18.fit_transform(X_train.Over18)\not = le_ot.fit_transform(X_train.OverTime)\n\nbt = enc_bt.fit_transform(bt.reshape(-1,1))\ndept = enc_dept.fit_transform(dept.reshape(-1,1))\nedu = enc_edu.fit_transform(edu.reshape(-1,1))\ngender = enc_gender.fit_transform(gender.reshape(-1,1))\njob = enc_job.fit_transform(job.reshape(-1,1))\nmarri = enc_marri.fit_transform(marri.reshape(-1,1))\nover18 = enc_over18.fit_transform(over18.reshape(-1,1))\not = enc_ot.fit_transform(ot.reshape(-1,1))",
      "execution_count": 25,
      "outputs": []
    },
    {
      "metadata": {
        "trusted": true
      },
      "cell_type": "code",
      "source": "X_train = pd.concat([X_train[num],\n                     pd.DataFrame(np.hstack((bt, dept, edu, gender,\n                                             job, marri, over18, ot)))], axis=1)",
      "execution_count": 26,
      "outputs": []
    },
    {
      "metadata": {
        "trusted": true
      },
      "cell_type": "code",
      "source": "X_train.shape",
      "execution_count": 27,
      "outputs": [
        {
          "output_type": "execute_result",
          "execution_count": 27,
          "data": {
            "text/plain": "(1333, 55)"
          },
          "metadata": {}
        }
      ]
    },
    {
      "metadata": {
        "trusted": true
      },
      "cell_type": "code",
      "source": "comb = pd.concat([X_train, y_train], axis=1)\ncomb = comb.dropna()\ncomb.shape",
      "execution_count": 28,
      "outputs": [
        {
          "output_type": "execute_result",
          "execution_count": 28,
          "data": {
            "text/plain": "(725, 56)"
          },
          "metadata": {}
        }
      ]
    },
    {
      "metadata": {
        "trusted": true
      },
      "cell_type": "code",
      "source": "y_train = comb['Attrition']",
      "execution_count": 29,
      "outputs": []
    },
    {
      "metadata": {
        "trusted": true
      },
      "cell_type": "code",
      "source": "X_train = comb[X_train.columns]",
      "execution_count": 30,
      "outputs": []
    },
    {
      "metadata": {
        "trusted": true
      },
      "cell_type": "code",
      "source": "test_bt = le_bt.transform(X_test.BusinessTravel)\ntest_dept = le_dept.transform(X_test.Department)\ntest_edu = le_edu.transform(X_test.EducationField)\ntest_gender = le_gender.transform(X_test.Gender)\ntest_job = le_job.transform(X_test.JobRole)\ntest_marri = le_marri.transform(X_test.MaritalStatus)\ntest_over18 = le_over18.transform(X_test.Over18)\ntest_ot = le_ot.transform(X_test.OverTime)\n\ntest_bt = enc_bt.fit_transform(test_bt.reshape(-1,1))\ntest_dept = enc_dept.fit_transform(test_dept.reshape(-1,1))\ntest_edu = enc_edu.fit_transform(test_edu.reshape(-1,1))\ntest_gender = enc_gender.fit_transform(test_gender.reshape(-1,1))\ntest_job = enc_job.fit_transform(test_job.reshape(-1,1))\ntest_marri = enc_marri.fit_transform(test_marri.reshape(-1,1))\ntest_over18 = enc_over18.fit_transform(test_over18.reshape(-1,1))\ntest_ot = enc_ot.fit_transform(test_ot.reshape(-1,1))",
      "execution_count": 31,
      "outputs": []
    },
    {
      "metadata": {
        "trusted": true
      },
      "cell_type": "code",
      "source": "X_test = pd.concat([X_test[num],\n                     pd.DataFrame(np.hstack((bt, dept, edu, gender,\n                                             job, marri, over18, ot)))], axis=1)",
      "execution_count": 32,
      "outputs": []
    },
    {
      "metadata": {
        "trusted": true
      },
      "cell_type": "code",
      "source": "X_test.shape",
      "execution_count": 33,
      "outputs": [
        {
          "output_type": "execute_result",
          "execution_count": 33,
          "data": {
            "text/plain": "(1166, 55)"
          },
          "metadata": {}
        }
      ]
    },
    {
      "metadata": {
        "trusted": true
      },
      "cell_type": "code",
      "source": "test_comb = pd.concat([X_test, y_test], axis=1)\ntest_comb = test_comb.dropna()\ntest_comb.shape",
      "execution_count": 34,
      "outputs": [
        {
          "output_type": "execute_result",
          "execution_count": 34,
          "data": {
            "text/plain": "(304, 56)"
          },
          "metadata": {}
        }
      ]
    },
    {
      "metadata": {
        "trusted": true
      },
      "cell_type": "code",
      "source": "y_test = test_comb['Attrition']\nX_test = test_comb[X_test.columns]",
      "execution_count": 35,
      "outputs": []
    },
    {
      "metadata": {
        "trusted": true
      },
      "cell_type": "code",
      "source": "from sklearn.metrics import confusion_matrix, accuracy_score",
      "execution_count": 36,
      "outputs": []
    },
    {
      "metadata": {},
      "cell_type": "markdown",
      "source": "# Model 1:"
    },
    {
      "metadata": {
        "trusted": true
      },
      "cell_type": "code",
      "source": "clf = LogisticRegression(solver=\"lbfgs\")\nclf.fit(X_train, y_train)\nprint(confusion_matrix(clf.predict(X_train), y_train))\nprint(accuracy_score(clf.predict(X_train), y_train))\nprint(confusion_matrix(clf.predict(X_test), y_test))\nprint(accuracy_score(clf.predict(X_test), y_test))",
      "execution_count": 37,
      "outputs": [
        {
          "output_type": "stream",
          "text": "[[610 111]\n [  2   2]]\n0.8441379310344828\n[[244  57]\n [  1   2]]\n0.8092105263157895\n",
          "name": "stdout"
        }
      ]
    },
    {
      "metadata": {
        "trusted": true
      },
      "cell_type": "code",
      "source": "y_test.value_counts()",
      "execution_count": 38,
      "outputs": [
        {
          "output_type": "execute_result",
          "execution_count": 38,
          "data": {
            "text/plain": "No     245\nYes     59\nName: Attrition, dtype: int64"
          },
          "metadata": {}
        }
      ]
    },
    {
      "metadata": {},
      "cell_type": "markdown",
      "source": "# Model 2:"
    },
    {
      "metadata": {
        "trusted": true
      },
      "cell_type": "code",
      "source": "clf = GradientBoostingClassifier()\nclf.fit(X_train, y_train)\nprint(confusion_matrix(clf.predict(X_train), y_train))\nprint(accuracy_score(clf.predict(X_train), y_train))\nprint(confusion_matrix(clf.predict(X_test), y_test))\nprint(accuracy_score(clf.predict(X_test), y_test))",
      "execution_count": 39,
      "outputs": [
        {
          "output_type": "stream",
          "text": "[[611  25]\n [  1  88]]\n0.9641379310344828\n[[238  50]\n [  7   9]]\n0.8125\n",
          "name": "stdout"
        }
      ]
    },
    {
      "metadata": {},
      "cell_type": "markdown",
      "source": "# Model 3:"
    },
    {
      "metadata": {
        "trusted": true
      },
      "cell_type": "code",
      "source": "clf = DecisionTreeClassifier()\nclf.fit(X_train, y_train)\nprint(confusion_matrix(clf.predict(X_train), y_train))\nprint(accuracy_score(clf.predict(X_train), y_train))\nprint(confusion_matrix(clf.predict(X_test), y_test))\nprint(accuracy_score(clf.predict(X_test), y_test))",
      "execution_count": 40,
      "outputs": [
        {
          "output_type": "stream",
          "text": "[[612   0]\n [  0 113]]\n1.0\n[[200  37]\n [ 45  22]]\n0.7302631578947368\n",
          "name": "stdout"
        }
      ]
    },
    {
      "metadata": {},
      "cell_type": "markdown",
      "source": "# Model 4:"
    },
    {
      "metadata": {
        "trusted": true
      },
      "cell_type": "code",
      "source": "clf = RandomForestClassifier()\nclf.fit(X_train, y_train)\nprint(confusion_matrix(clf.predict(X_train), y_train))\nprint(accuracy_score(clf.predict(X_train), y_train))\nprint(confusion_matrix(clf.predict(X_test), y_test))\nprint(accuracy_score(clf.predict(X_test), y_test))",
      "execution_count": 41,
      "outputs": [
        {
          "output_type": "stream",
          "text": "[[610  15]\n [  2  98]]\n0.976551724137931\n[[238  53]\n [  7   6]]\n0.8026315789473685\n",
          "name": "stdout"
        }
      ]
    },
    {
      "metadata": {},
      "cell_type": "markdown",
      "source": "***"
    }
  ],
  "metadata": {
    "kernelspec": {
      "name": "python3",
      "display_name": "Python 3",
      "language": "python"
    },
    "language_info": {
      "mimetype": "text/x-python",
      "nbconvert_exporter": "python",
      "name": "python",
      "pygments_lexer": "ipython3",
      "version": "3.5.4",
      "file_extension": ".py",
      "codemirror_mode": {
        "version": 3,
        "name": "ipython"
      }
    }
  },
  "nbformat": 4,
  "nbformat_minor": 2
}