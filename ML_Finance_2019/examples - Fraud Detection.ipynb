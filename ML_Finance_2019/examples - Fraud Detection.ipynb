{
  "cells": [
    {
      "metadata": {},
      "cell_type": "markdown",
      "source": "# Credit Card Fraud\n\n\n[Source](https://www.kaggle.com/mlg-ulb/creditcardfraud)\n\n[Great Examples](https://www.kaggle.com/janiobachmann/credit-fraud-dealing-with-imbalanced-datasets)"
    },
    {
      "metadata": {
        "trusted": true
      },
      "cell_type": "code",
      "source": "import pandas as pd, numpy as np\nimport datetime\n\nfrom sklearn.model_selection import train_test_split\nfrom sklearn.preprocessing import OneHotEncoder, LabelBinarizer\nfrom sklearn.ensemble import GradientBoostingClassifier, RandomForestClassifier\nfrom sklearn.linear_model import LogisticRegression\nfrom sklearn.tree import DecisionTreeClassifier\nfrom sklearn.metrics import roc_curve, auc, confusion_matrix\nfrom sklearn.model_selection import GridSearchCV\n\nimport sklearn\n#from sklearn_pandas import DataFrameMapper\n\nimport matplotlib.pyplot as plt\nfrom IPython.display import HTML",
      "execution_count": 1,
      "outputs": [
        {
          "output_type": "stream",
          "text": "/home/nbuser/anaconda3_420/lib/python3.5/site-packages/sklearn/ensemble/weight_boosting.py:29: DeprecationWarning: numpy.core.umath_tests is an internal NumPy module and should not be imported. It will be removed in a future NumPy release.\n  from numpy.core.umath_tests import inner1d\n",
          "name": "stderr"
        }
      ]
    },
    {
      "metadata": {},
      "cell_type": "markdown",
      "source": "Unbalanced data issue"
    },
    {
      "metadata": {
        "trusted": true
      },
      "cell_type": "code",
      "source": "df = pd.read_excel(\"creditcard.xlsx\")",
      "execution_count": 2,
      "outputs": []
    },
    {
      "metadata": {
        "trusted": true
      },
      "cell_type": "code",
      "source": "df.head()",
      "execution_count": 3,
      "outputs": [
        {
          "output_type": "execute_result",
          "execution_count": 3,
          "data": {
            "text/html": "<div>\n<table border=\"1\" class=\"dataframe\">\n  <thead>\n    <tr style=\"text-align: right;\">\n      <th></th>\n      <th>Time</th>\n      <th>V1</th>\n      <th>V2</th>\n      <th>V3</th>\n      <th>V4</th>\n      <th>V5</th>\n      <th>V6</th>\n      <th>V7</th>\n      <th>V8</th>\n      <th>V9</th>\n      <th>...</th>\n      <th>V22</th>\n      <th>V23</th>\n      <th>V24</th>\n      <th>V25</th>\n      <th>V26</th>\n      <th>V27</th>\n      <th>V28</th>\n      <th>Amount</th>\n      <th>Class</th>\n      <th>fil</th>\n    </tr>\n  </thead>\n  <tbody>\n    <tr>\n      <th>0</th>\n      <td>16</td>\n      <td>0.694885</td>\n      <td>-1.361819</td>\n      <td>1.029221</td>\n      <td>0.834159</td>\n      <td>-1.191209</td>\n      <td>1.309109</td>\n      <td>-0.878586</td>\n      <td>0.445290</td>\n      <td>-0.446196</td>\n      <td>...</td>\n      <td>-0.571955</td>\n      <td>-0.050881</td>\n      <td>-0.304215</td>\n      <td>0.072001</td>\n      <td>-0.422234</td>\n      <td>0.086553</td>\n      <td>0.063499</td>\n      <td>231.71</td>\n      <td>0</td>\n      <td>0.917284</td>\n    </tr>\n    <tr>\n      <th>1</th>\n      <td>25</td>\n      <td>1.114009</td>\n      <td>0.085546</td>\n      <td>0.493702</td>\n      <td>1.335760</td>\n      <td>-0.300189</td>\n      <td>-0.010754</td>\n      <td>-0.118760</td>\n      <td>0.188617</td>\n      <td>0.205687</td>\n      <td>...</td>\n      <td>-0.004760</td>\n      <td>-0.031470</td>\n      <td>0.198054</td>\n      <td>0.565007</td>\n      <td>-0.337718</td>\n      <td>0.029057</td>\n      <td>0.004453</td>\n      <td>4.45</td>\n      <td>0</td>\n      <td>0.980440</td>\n    </tr>\n    <tr>\n      <th>2</th>\n      <td>26</td>\n      <td>-0.535388</td>\n      <td>0.865268</td>\n      <td>1.351076</td>\n      <td>0.147575</td>\n      <td>0.433680</td>\n      <td>0.086983</td>\n      <td>0.693039</td>\n      <td>0.179742</td>\n      <td>-0.285642</td>\n      <td>...</td>\n      <td>0.206537</td>\n      <td>-0.187108</td>\n      <td>0.000753</td>\n      <td>0.098117</td>\n      <td>-0.553471</td>\n      <td>-0.078306</td>\n      <td>0.025427</td>\n      <td>1.77</td>\n      <td>0</td>\n      <td>0.958214</td>\n    </tr>\n    <tr>\n      <th>3</th>\n      <td>27</td>\n      <td>-1.452187</td>\n      <td>1.765124</td>\n      <td>0.611669</td>\n      <td>1.176825</td>\n      <td>-0.445980</td>\n      <td>0.246826</td>\n      <td>-0.257566</td>\n      <td>1.092472</td>\n      <td>-0.607524</td>\n      <td>...</td>\n      <td>0.325782</td>\n      <td>-0.069107</td>\n      <td>0.020962</td>\n      <td>-0.044668</td>\n      <td>-0.243441</td>\n      <td>0.149180</td>\n      <td>0.120557</td>\n      <td>1.80</td>\n      <td>0</td>\n      <td>0.968873</td>\n    </tr>\n    <tr>\n      <th>4</th>\n      <td>34</td>\n      <td>-0.291540</td>\n      <td>0.445575</td>\n      <td>1.249752</td>\n      <td>-1.735736</td>\n      <td>0.085756</td>\n      <td>-0.121924</td>\n      <td>0.407716</td>\n      <td>0.095309</td>\n      <td>0.815902</td>\n      <td>...</td>\n      <td>-0.120449</td>\n      <td>-0.156526</td>\n      <td>-0.800213</td>\n      <td>-0.000620</td>\n      <td>-0.835203</td>\n      <td>0.131001</td>\n      <td>0.062896</td>\n      <td>18.95</td>\n      <td>0</td>\n      <td>0.917209</td>\n    </tr>\n  </tbody>\n</table>\n<p>5 rows × 32 columns</p>\n</div>",
            "text/plain": "   Time        V1        V2        V3        V4        V5        V6        V7  \\\n0    16  0.694885 -1.361819  1.029221  0.834159 -1.191209  1.309109 -0.878586   \n1    25  1.114009  0.085546  0.493702  1.335760 -0.300189 -0.010754 -0.118760   \n2    26 -0.535388  0.865268  1.351076  0.147575  0.433680  0.086983  0.693039   \n3    27 -1.452187  1.765124  0.611669  1.176825 -0.445980  0.246826 -0.257566   \n4    34 -0.291540  0.445575  1.249752 -1.735736  0.085756 -0.121924  0.407716   \n\n         V8        V9    ...          V22       V23       V24       V25  \\\n0  0.445290 -0.446196    ...    -0.571955 -0.050881 -0.304215  0.072001   \n1  0.188617  0.205687    ...    -0.004760 -0.031470  0.198054  0.565007   \n2  0.179742 -0.285642    ...     0.206537 -0.187108  0.000753  0.098117   \n3  1.092472 -0.607524    ...     0.325782 -0.069107  0.020962 -0.044668   \n4  0.095309  0.815902    ...    -0.120449 -0.156526 -0.800213 -0.000620   \n\n        V26       V27       V28  Amount  Class       fil  \n0 -0.422234  0.086553  0.063499  231.71      0  0.917284  \n1 -0.337718  0.029057  0.004453    4.45      0  0.980440  \n2 -0.553471 -0.078306  0.025427    1.77      0  0.958214  \n3 -0.243441  0.149180  0.120557    1.80      0  0.968873  \n4 -0.835203  0.131001  0.062896   18.95      0  0.917209  \n\n[5 rows x 32 columns]"
          },
          "metadata": {}
        }
      ]
    },
    {
      "metadata": {
        "trusted": true
      },
      "cell_type": "code",
      "source": "pd.set_option('display.max_colwidth', -1)\ndisplay(HTML(df.head().to_html()))\npd.reset_option('display.max_colwidth')",
      "execution_count": 4,
      "outputs": [
        {
          "output_type": "display_data",
          "data": {
            "text/html": "<table border=\"1\" class=\"dataframe\">\n  <thead>\n    <tr style=\"text-align: right;\">\n      <th></th>\n      <th>Time</th>\n      <th>V1</th>\n      <th>V2</th>\n      <th>V3</th>\n      <th>V4</th>\n      <th>V5</th>\n      <th>V6</th>\n      <th>V7</th>\n      <th>V8</th>\n      <th>V9</th>\n      <th>V10</th>\n      <th>V11</th>\n      <th>V12</th>\n      <th>V13</th>\n      <th>V14</th>\n      <th>V15</th>\n      <th>V16</th>\n      <th>V17</th>\n      <th>V18</th>\n      <th>V19</th>\n      <th>V20</th>\n      <th>V21</th>\n      <th>V22</th>\n      <th>V23</th>\n      <th>V24</th>\n      <th>V25</th>\n      <th>V26</th>\n      <th>V27</th>\n      <th>V28</th>\n      <th>Amount</th>\n      <th>Class</th>\n      <th>fil</th>\n    </tr>\n  </thead>\n  <tbody>\n    <tr>\n      <th>0</th>\n      <td>16</td>\n      <td>0.694885</td>\n      <td>-1.361819</td>\n      <td>1.029221</td>\n      <td>0.834159</td>\n      <td>-1.191209</td>\n      <td>1.309109</td>\n      <td>-0.878586</td>\n      <td>0.445290</td>\n      <td>-0.446196</td>\n      <td>0.568521</td>\n      <td>1.019151</td>\n      <td>1.298329</td>\n      <td>0.420480</td>\n      <td>-0.372651</td>\n      <td>-0.807980</td>\n      <td>-2.044557</td>\n      <td>0.515663</td>\n      <td>0.625847</td>\n      <td>-1.300408</td>\n      <td>-0.138334</td>\n      <td>-0.295583</td>\n      <td>-0.571955</td>\n      <td>-0.050881</td>\n      <td>-0.304215</td>\n      <td>0.072001</td>\n      <td>-0.422234</td>\n      <td>0.086553</td>\n      <td>0.063499</td>\n      <td>231.71</td>\n      <td>0</td>\n      <td>0.917284</td>\n    </tr>\n    <tr>\n      <th>1</th>\n      <td>25</td>\n      <td>1.114009</td>\n      <td>0.085546</td>\n      <td>0.493702</td>\n      <td>1.335760</td>\n      <td>-0.300189</td>\n      <td>-0.010754</td>\n      <td>-0.118760</td>\n      <td>0.188617</td>\n      <td>0.205687</td>\n      <td>0.082262</td>\n      <td>1.133556</td>\n      <td>0.626699</td>\n      <td>-1.492780</td>\n      <td>0.520788</td>\n      <td>-0.674593</td>\n      <td>-0.529108</td>\n      <td>0.158256</td>\n      <td>-0.398751</td>\n      <td>-0.145709</td>\n      <td>-0.273832</td>\n      <td>-0.053234</td>\n      <td>-0.004760</td>\n      <td>-0.031470</td>\n      <td>0.198054</td>\n      <td>0.565007</td>\n      <td>-0.337718</td>\n      <td>0.029057</td>\n      <td>0.004453</td>\n      <td>4.45</td>\n      <td>0</td>\n      <td>0.980440</td>\n    </tr>\n    <tr>\n      <th>2</th>\n      <td>26</td>\n      <td>-0.535388</td>\n      <td>0.865268</td>\n      <td>1.351076</td>\n      <td>0.147575</td>\n      <td>0.433680</td>\n      <td>0.086983</td>\n      <td>0.693039</td>\n      <td>0.179742</td>\n      <td>-0.285642</td>\n      <td>-0.482474</td>\n      <td>0.871800</td>\n      <td>0.853447</td>\n      <td>-0.571822</td>\n      <td>0.102252</td>\n      <td>-1.519991</td>\n      <td>-0.285912</td>\n      <td>-0.309633</td>\n      <td>-0.403902</td>\n      <td>-0.823743</td>\n      <td>-0.283264</td>\n      <td>0.049526</td>\n      <td>0.206537</td>\n      <td>-0.187108</td>\n      <td>0.000753</td>\n      <td>0.098117</td>\n      <td>-0.553471</td>\n      <td>-0.078306</td>\n      <td>0.025427</td>\n      <td>1.77</td>\n      <td>0</td>\n      <td>0.958214</td>\n    </tr>\n    <tr>\n      <th>3</th>\n      <td>27</td>\n      <td>-1.452187</td>\n      <td>1.765124</td>\n      <td>0.611669</td>\n      <td>1.176825</td>\n      <td>-0.445980</td>\n      <td>0.246826</td>\n      <td>-0.257566</td>\n      <td>1.092472</td>\n      <td>-0.607524</td>\n      <td>0.047156</td>\n      <td>0.783727</td>\n      <td>1.096386</td>\n      <td>-0.268094</td>\n      <td>0.768648</td>\n      <td>-0.524367</td>\n      <td>-0.808816</td>\n      <td>0.710386</td>\n      <td>-0.118369</td>\n      <td>0.979288</td>\n      <td>0.008713</td>\n      <td>0.082280</td>\n      <td>0.325782</td>\n      <td>-0.069107</td>\n      <td>0.020962</td>\n      <td>-0.044668</td>\n      <td>-0.243441</td>\n      <td>0.149180</td>\n      <td>0.120557</td>\n      <td>1.80</td>\n      <td>0</td>\n      <td>0.968873</td>\n    </tr>\n    <tr>\n      <th>4</th>\n      <td>34</td>\n      <td>-0.291540</td>\n      <td>0.445575</td>\n      <td>1.249752</td>\n      <td>-1.735736</td>\n      <td>0.085756</td>\n      <td>-0.121924</td>\n      <td>0.407716</td>\n      <td>0.095309</td>\n      <td>0.815902</td>\n      <td>-1.491188</td>\n      <td>-0.846191</td>\n      <td>0.056533</td>\n      <td>-0.058954</td>\n      <td>0.151923</td>\n      <td>1.982595</td>\n      <td>-0.443295</td>\n      <td>-0.318251</td>\n      <td>0.064787</td>\n      <td>0.613505</td>\n      <td>-0.033522</td>\n      <td>-0.064906</td>\n      <td>-0.120449</td>\n      <td>-0.156526</td>\n      <td>-0.800213</td>\n      <td>-0.000620</td>\n      <td>-0.835203</td>\n      <td>0.131001</td>\n      <td>0.062896</td>\n      <td>18.95</td>\n      <td>0</td>\n      <td>0.917209</td>\n    </tr>\n  </tbody>\n</table>",
            "text/plain": "<IPython.core.display.HTML object>"
          },
          "metadata": {}
        }
      ]
    },
    {
      "metadata": {
        "trusted": true
      },
      "cell_type": "code",
      "source": "df.columns",
      "execution_count": 5,
      "outputs": [
        {
          "output_type": "execute_result",
          "execution_count": 5,
          "data": {
            "text/plain": "Index(['Time', 'V1', 'V2', 'V3', 'V4', 'V5', 'V6', 'V7', 'V8', 'V9', 'V10',\n       'V11', 'V12', 'V13', 'V14', 'V15', 'V16', 'V17', 'V18', 'V19', 'V20',\n       'V21', 'V22', 'V23', 'V24', 'V25', 'V26', 'V27', 'V28', 'Amount',\n       'Class', 'fil'],\n      dtype='object')"
          },
          "metadata": {}
        }
      ]
    },
    {
      "metadata": {
        "trusted": true
      },
      "cell_type": "code",
      "source": "features = ['V1', 'V2', 'V3', 'V4', 'V5', 'V6', 'V7', 'V8', 'V9', 'V10',\n            'V11', 'V12', 'V13', 'V14', 'V15', 'V16', 'V17', 'V18', 'V19', 'V20',\n            'V21', 'V22', 'V23', 'V24', 'V25', 'V26', 'V27', 'V28']",
      "execution_count": 6,
      "outputs": []
    },
    {
      "metadata": {
        "trusted": true
      },
      "cell_type": "code",
      "source": "df['Class'].value_counts()",
      "execution_count": 7,
      "outputs": [
        {
          "output_type": "execute_result",
          "execution_count": 7,
          "data": {
            "text/plain": "0    28442\n1      492\nName: Class, dtype: int64"
          },
          "metadata": {}
        }
      ]
    },
    {
      "metadata": {
        "trusted": true
      },
      "cell_type": "code",
      "source": "X = df[features]\ny = df['Class']",
      "execution_count": 8,
      "outputs": []
    },
    {
      "metadata": {
        "trusted": true
      },
      "cell_type": "code",
      "source": "X_train, X_test, y_train, y_test = train_test_split(X, y, test_size=0.3, random_state=42, \n                                                    stratify=y)",
      "execution_count": 9,
      "outputs": []
    },
    {
      "metadata": {
        "trusted": true
      },
      "cell_type": "code",
      "source": "from sklearn.metrics import confusion_matrix, accuracy_score",
      "execution_count": 10,
      "outputs": []
    },
    {
      "metadata": {},
      "cell_type": "markdown",
      "source": "# Model 1:"
    },
    {
      "metadata": {
        "trusted": true
      },
      "cell_type": "code",
      "source": "clf = LogisticRegression()\nclf.fit(X_train, y_train)\nprint(confusion_matrix(clf.predict(X_train), y_train))\nprint(accuracy_score(clf.predict(X_train), y_train))\nprint(confusion_matrix(clf.predict(X_test), y_test))\nprint(accuracy_score(clf.predict(X_test), y_test))",
      "execution_count": 11,
      "outputs": [
        {
          "output_type": "stream",
          "text": "[[19897    66]\n [   12   278]]\n0.9961487187083395\n[[8530   29]\n [   3  119]]\n0.9963137887340168\n",
          "name": "stdout"
        }
      ]
    },
    {
      "metadata": {},
      "cell_type": "markdown",
      "source": "# Model 2:"
    },
    {
      "metadata": {
        "trusted": true
      },
      "cell_type": "code",
      "source": "clf = GradientBoostingClassifier()\nclf.fit(X_train, y_train)\nprint(confusion_matrix(clf.predict(X_train), y_train))\nprint(accuracy_score(clf.predict(X_train), y_train))\nprint(confusion_matrix(clf.predict(X_test), y_test))\nprint(accuracy_score(clf.predict(X_test), y_test))",
      "execution_count": 12,
      "outputs": [
        {
          "output_type": "stream",
          "text": "[[19908    20]\n [    1   324]]\n0.9989631165753222\n[[8521   26]\n [  12  122]]\n0.9956226241216449\n",
          "name": "stdout"
        }
      ]
    },
    {
      "metadata": {},
      "cell_type": "markdown",
      "source": "# Model 3:"
    },
    {
      "metadata": {
        "trusted": true
      },
      "cell_type": "code",
      "source": "clf = DecisionTreeClassifier()\nclf.fit(X_train, y_train)\nprint(confusion_matrix(clf.predict(X_train), y_train))\nprint(accuracy_score(clf.predict(X_train), y_train))\nprint(confusion_matrix(clf.predict(X_test), y_test))\nprint(accuracy_score(clf.predict(X_test), y_test))",
      "execution_count": 13,
      "outputs": [
        {
          "output_type": "stream",
          "text": "[[19909     0]\n [    0   344]]\n1.0\n[[8508   22]\n [  25  126]]\n0.9945858772030872\n",
          "name": "stdout"
        }
      ]
    },
    {
      "metadata": {},
      "cell_type": "markdown",
      "source": "# Model 4:"
    },
    {
      "metadata": {
        "trusted": true
      },
      "cell_type": "code",
      "source": "clf = RandomForestClassifier()\nclf.fit(X_train, y_train)\nprint(confusion_matrix(clf.predict(X_train), y_train))\nprint(accuracy_score(clf.predict(X_train), y_train))\nprint(confusion_matrix(clf.predict(X_test), y_test))\nprint(accuracy_score(clf.predict(X_test), y_test))",
      "execution_count": 14,
      "outputs": [
        {
          "output_type": "stream",
          "text": "[[19909    10]\n [    0   334]]\n0.9995062459882487\n[[8530   25]\n [   3  123]]\n0.9967745651422647\n",
          "name": "stdout"
        }
      ]
    },
    {
      "metadata": {},
      "cell_type": "markdown",
      "source": "***"
    }
  ],
  "metadata": {
    "kernelspec": {
      "name": "python3",
      "display_name": "Python 3",
      "language": "python"
    },
    "language_info": {
      "mimetype": "text/x-python",
      "nbconvert_exporter": "python",
      "name": "python",
      "file_extension": ".py",
      "version": "3.5.4",
      "pygments_lexer": "ipython3",
      "codemirror_mode": {
        "version": 3,
        "name": "ipython"
      }
    }
  },
  "nbformat": 4,
  "nbformat_minor": 2
}